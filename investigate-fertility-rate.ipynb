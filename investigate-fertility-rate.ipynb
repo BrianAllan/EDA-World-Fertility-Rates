{
 "cells": [
  {
   "cell_type": "markdown",
   "metadata": {},
   "source": [
    "# Project: Investigating Fertility Rates Across Countries of the World\n",
    "### Course: Udacity, Data Analyst Nanodegree\n",
    "### Date: June 2020\n",
    "### Author: Brian Allan Woodcock\n",
    "### Email: brianwoodcock99@gmail.com\n",
    "\n",
    "## Table of Contents\n",
    "<ul>\n",
    "<li><a href=\"#intro\">Introduction</a></li>\n",
    "<li><a href=\"#wrangling\">Data Wrangling</a></li>\n",
    "<li><a href=\"#eda\">Exploratory Data Analysis</a></li>\n",
    "<li><a href=\"#conclusions\">Conclusions</a></li>\n",
    "</ul>"
   ]
  },
  {
   "cell_type": "markdown",
   "metadata": {},
   "source": [
    "<a id='intro'></a>\n",
    "## Introduction\n",
    "\n",
    "Gapminder (<https://www.gapminder.org>) is an organization, founded by the Swedish academic Hans Rosling and dedicated to educating people about basic global facts, such as facts about the distribution of human population and income across the countries of the world.  For promoting a fact-based worldview, Gapminder provides various educational resources as well as data sets for investigating global trends related to a wide variety of factors.\n",
    "\n",
    "This investigation will look at fertility rates -- i.e., children per woman, or as Gapminder designates it \"babies per woman\" -- across the world.  The fertility rate for a country is the average number of children born per woman and estimates are made by considering the number of children that would be born to each woman with prevailing age-specific fertility rates.  The data set extends from 1800 to 2100. The period 1800-2014 consists of data compiled by Gapminder and combined with UN data. From 2015 onward, values come from the UN forecast of future fertility rate in all countries.  Gapminder's documentation for this data set can be accessed here: <https://www.gapminder.org/data/documentation/gd008/>.\n",
    "\n",
    "In some of his videos, Hans Rosling addresses the questions, [\"Will saving poor children lead to overpopulation?\"](https://vimeo.com/122112096) and [\"The rapid growth of the world population, when will it slow down?\"](https://vimeo.com/127513974)  Decreasing fertility rates play a role in both of his answers.  In the past, human fertility rates were about 6 children per woman, but mortality rates were also very high.  Now, according to Rosling, it's only in the poor countries of the world that fertility rates are still high at about 5 children per woman.  In the majority of countries, fertility rates have dropped to nearly 2 children per woman. According to Rosling, UN forecasts for the end of this century (2100) extrapolate that the human population will stop growing at about 11 billion, a change of about 4 billion from the current, roughly 7 billion people in the world.  So, understanding fertility rates is a key factor in addressing some big questions about world population.\n",
    "\n",
    "Using Gapminder's data, we will investigate the following questions:\n",
    "\n",
    "> **Question 1**: How have fertility rates across countries of the world changed over time?\n",
    "\n",
    "> **Question 2**: How have fertility rates been distributed across regions of the world recently (2011)?\n",
    "\n",
    "> **Question 3**: Are fertility rates (2011) correlated with other factors -- for example, income, life expectancy, sanitation, female literacy, female employment, and contraceptive use -- and, if so, how -- positively or negatively?  (Answers to this last question would form the basis for further work in developing regression models and investigating questions of causality.  But that goes beyond the goals of this exploratory data analysis.)\n",
    "\n",
    "The year 2011 has been chosen as a \"current\" year for our analysis.  Why is that?  Some of the relevant data sets for question 3, such as that concerning female literacy, do not have data beyond 2011.  Others, have data beyond 2011, but not all the way to the present year.  For example, the fertility rate data set switches from historical data to forecasted data after 2014.  So, we do not have historical data even for fertility rate up to the present year from Gapminder."
   ]
  },
  {
   "cell_type": "code",
   "execution_count": 1,
   "metadata": {},
   "outputs": [],
   "source": [
    "import pandas as pd\n",
    "import matplotlib.pyplot as plt"
   ]
  },
  {
   "cell_type": "markdown",
   "metadata": {},
   "source": [
    "<a id='wrangling'></a>\n",
    "## Data Wrangling"
   ]
  },
  {
   "cell_type": "markdown",
   "metadata": {},
   "source": [
    "### Data Frame - Fertility Rate Over Time\n",
    "\n",
    "First, we load the data set that has fertility rate information for countries over time."
   ]
  },
  {
   "cell_type": "code",
   "execution_count": 2,
   "metadata": {},
   "outputs": [
    {
     "data": {
      "text/html": [
       "<div>\n",
       "<style scoped>\n",
       "    .dataframe tbody tr th:only-of-type {\n",
       "        vertical-align: middle;\n",
       "    }\n",
       "\n",
       "    .dataframe tbody tr th {\n",
       "        vertical-align: top;\n",
       "    }\n",
       "\n",
       "    .dataframe thead th {\n",
       "        text-align: right;\n",
       "    }\n",
       "</style>\n",
       "<table border=\"1\" class=\"dataframe\">\n",
       "  <thead>\n",
       "    <tr style=\"text-align: right;\">\n",
       "      <th></th>\n",
       "      <th>1800</th>\n",
       "      <th>1801</th>\n",
       "      <th>1802</th>\n",
       "      <th>1803</th>\n",
       "      <th>1804</th>\n",
       "      <th>1805</th>\n",
       "      <th>1806</th>\n",
       "      <th>1807</th>\n",
       "      <th>1808</th>\n",
       "      <th>1809</th>\n",
       "      <th>...</th>\n",
       "      <th>2091</th>\n",
       "      <th>2092</th>\n",
       "      <th>2093</th>\n",
       "      <th>2094</th>\n",
       "      <th>2095</th>\n",
       "      <th>2096</th>\n",
       "      <th>2097</th>\n",
       "      <th>2098</th>\n",
       "      <th>2099</th>\n",
       "      <th>2100</th>\n",
       "    </tr>\n",
       "    <tr>\n",
       "      <th>country</th>\n",
       "      <th></th>\n",
       "      <th></th>\n",
       "      <th></th>\n",
       "      <th></th>\n",
       "      <th></th>\n",
       "      <th></th>\n",
       "      <th></th>\n",
       "      <th></th>\n",
       "      <th></th>\n",
       "      <th></th>\n",
       "      <th></th>\n",
       "      <th></th>\n",
       "      <th></th>\n",
       "      <th></th>\n",
       "      <th></th>\n",
       "      <th></th>\n",
       "      <th></th>\n",
       "      <th></th>\n",
       "      <th></th>\n",
       "      <th></th>\n",
       "      <th></th>\n",
       "    </tr>\n",
       "  </thead>\n",
       "  <tbody>\n",
       "    <tr>\n",
       "      <th>Afghanistan</th>\n",
       "      <td>7.00</td>\n",
       "      <td>7.00</td>\n",
       "      <td>7.00</td>\n",
       "      <td>7.00</td>\n",
       "      <td>7.00</td>\n",
       "      <td>7.00</td>\n",
       "      <td>7.00</td>\n",
       "      <td>7.00</td>\n",
       "      <td>7.00</td>\n",
       "      <td>7.00</td>\n",
       "      <td>...</td>\n",
       "      <td>1.74</td>\n",
       "      <td>1.74</td>\n",
       "      <td>1.74</td>\n",
       "      <td>1.74</td>\n",
       "      <td>1.74</td>\n",
       "      <td>1.74</td>\n",
       "      <td>1.74</td>\n",
       "      <td>1.74</td>\n",
       "      <td>1.74</td>\n",
       "      <td>1.74</td>\n",
       "    </tr>\n",
       "    <tr>\n",
       "      <th>Albania</th>\n",
       "      <td>4.60</td>\n",
       "      <td>4.60</td>\n",
       "      <td>4.60</td>\n",
       "      <td>4.60</td>\n",
       "      <td>4.60</td>\n",
       "      <td>4.60</td>\n",
       "      <td>4.60</td>\n",
       "      <td>4.60</td>\n",
       "      <td>4.60</td>\n",
       "      <td>4.60</td>\n",
       "      <td>...</td>\n",
       "      <td>1.78</td>\n",
       "      <td>1.78</td>\n",
       "      <td>1.78</td>\n",
       "      <td>1.79</td>\n",
       "      <td>1.79</td>\n",
       "      <td>1.79</td>\n",
       "      <td>1.79</td>\n",
       "      <td>1.79</td>\n",
       "      <td>1.79</td>\n",
       "      <td>1.79</td>\n",
       "    </tr>\n",
       "    <tr>\n",
       "      <th>Algeria</th>\n",
       "      <td>6.99</td>\n",
       "      <td>6.99</td>\n",
       "      <td>6.99</td>\n",
       "      <td>6.99</td>\n",
       "      <td>6.99</td>\n",
       "      <td>6.99</td>\n",
       "      <td>6.99</td>\n",
       "      <td>6.99</td>\n",
       "      <td>6.99</td>\n",
       "      <td>6.99</td>\n",
       "      <td>...</td>\n",
       "      <td>1.86</td>\n",
       "      <td>1.86</td>\n",
       "      <td>1.86</td>\n",
       "      <td>1.86</td>\n",
       "      <td>1.86</td>\n",
       "      <td>1.86</td>\n",
       "      <td>1.86</td>\n",
       "      <td>1.86</td>\n",
       "      <td>1.86</td>\n",
       "      <td>1.86</td>\n",
       "    </tr>\n",
       "    <tr>\n",
       "      <th>Angola</th>\n",
       "      <td>6.93</td>\n",
       "      <td>6.93</td>\n",
       "      <td>6.93</td>\n",
       "      <td>6.93</td>\n",
       "      <td>6.93</td>\n",
       "      <td>6.93</td>\n",
       "      <td>6.93</td>\n",
       "      <td>6.94</td>\n",
       "      <td>6.94</td>\n",
       "      <td>6.94</td>\n",
       "      <td>...</td>\n",
       "      <td>2.54</td>\n",
       "      <td>2.52</td>\n",
       "      <td>2.50</td>\n",
       "      <td>2.48</td>\n",
       "      <td>2.47</td>\n",
       "      <td>2.45</td>\n",
       "      <td>2.43</td>\n",
       "      <td>2.42</td>\n",
       "      <td>2.40</td>\n",
       "      <td>2.40</td>\n",
       "    </tr>\n",
       "    <tr>\n",
       "      <th>Antigua and Barbuda</th>\n",
       "      <td>5.00</td>\n",
       "      <td>5.00</td>\n",
       "      <td>4.99</td>\n",
       "      <td>4.99</td>\n",
       "      <td>4.99</td>\n",
       "      <td>4.98</td>\n",
       "      <td>4.98</td>\n",
       "      <td>4.97</td>\n",
       "      <td>4.97</td>\n",
       "      <td>4.97</td>\n",
       "      <td>...</td>\n",
       "      <td>1.81</td>\n",
       "      <td>1.81</td>\n",
       "      <td>1.81</td>\n",
       "      <td>1.81</td>\n",
       "      <td>1.81</td>\n",
       "      <td>1.81</td>\n",
       "      <td>1.81</td>\n",
       "      <td>1.82</td>\n",
       "      <td>1.82</td>\n",
       "      <td>1.82</td>\n",
       "    </tr>\n",
       "  </tbody>\n",
       "</table>\n",
       "<p>5 rows × 301 columns</p>\n",
       "</div>"
      ],
      "text/plain": [
       "                     1800  1801  1802  1803  1804  1805  1806  1807  1808  \\\n",
       "country                                                                     \n",
       "Afghanistan          7.00  7.00  7.00  7.00  7.00  7.00  7.00  7.00  7.00   \n",
       "Albania              4.60  4.60  4.60  4.60  4.60  4.60  4.60  4.60  4.60   \n",
       "Algeria              6.99  6.99  6.99  6.99  6.99  6.99  6.99  6.99  6.99   \n",
       "Angola               6.93  6.93  6.93  6.93  6.93  6.93  6.93  6.94  6.94   \n",
       "Antigua and Barbuda  5.00  5.00  4.99  4.99  4.99  4.98  4.98  4.97  4.97   \n",
       "\n",
       "                     1809  ...  2091  2092  2093  2094  2095  2096  2097  \\\n",
       "country                    ...                                             \n",
       "Afghanistan          7.00  ...  1.74  1.74  1.74  1.74  1.74  1.74  1.74   \n",
       "Albania              4.60  ...  1.78  1.78  1.78  1.79  1.79  1.79  1.79   \n",
       "Algeria              6.99  ...  1.86  1.86  1.86  1.86  1.86  1.86  1.86   \n",
       "Angola               6.94  ...  2.54  2.52  2.50  2.48  2.47  2.45  2.43   \n",
       "Antigua and Barbuda  4.97  ...  1.81  1.81  1.81  1.81  1.81  1.81  1.81   \n",
       "\n",
       "                     2098  2099  2100  \n",
       "country                                \n",
       "Afghanistan          1.74  1.74  1.74  \n",
       "Albania              1.79  1.79  1.79  \n",
       "Algeria              1.86  1.86  1.86  \n",
       "Angola               2.42  2.40  2.40  \n",
       "Antigua and Barbuda  1.82  1.82  1.82  \n",
       "\n",
       "[5 rows x 301 columns]"
      ]
     },
     "execution_count": 2,
     "metadata": {},
     "output_type": "execute_result"
    }
   ],
   "source": [
    "df_fertility = pd.read_csv('children_per_woman_total_fertility.csv', index_col='country')\n",
    "df_fertility.head()"
   ]
  },
  {
   "cell_type": "markdown",
   "metadata": {},
   "source": [
    "Are there missing values in this data set?  According to the following, the answer is \"No\"."
   ]
  },
  {
   "cell_type": "code",
   "execution_count": 3,
   "metadata": {},
   "outputs": [
    {
     "data": {
      "text/plain": [
       "0"
      ]
     },
     "execution_count": 3,
     "metadata": {},
     "output_type": "execute_result"
    }
   ],
   "source": [
    "df_fertility.isnull().sum().sum()"
   ]
  },
  {
   "cell_type": "markdown",
   "metadata": {},
   "source": [
    "The fertility data becomes prospective after 2014 and, hence, data after that year is not useful for answering our questions.  So, we will work with a reduced subset of the data set only including data to 2014."
   ]
  },
  {
   "cell_type": "code",
   "execution_count": 4,
   "metadata": {},
   "outputs": [
    {
     "data": {
      "text/html": [
       "<div>\n",
       "<style scoped>\n",
       "    .dataframe tbody tr th:only-of-type {\n",
       "        vertical-align: middle;\n",
       "    }\n",
       "\n",
       "    .dataframe tbody tr th {\n",
       "        vertical-align: top;\n",
       "    }\n",
       "\n",
       "    .dataframe thead th {\n",
       "        text-align: right;\n",
       "    }\n",
       "</style>\n",
       "<table border=\"1\" class=\"dataframe\">\n",
       "  <thead>\n",
       "    <tr style=\"text-align: right;\">\n",
       "      <th></th>\n",
       "      <th>1800</th>\n",
       "      <th>1801</th>\n",
       "      <th>1802</th>\n",
       "      <th>1803</th>\n",
       "      <th>1804</th>\n",
       "      <th>1805</th>\n",
       "      <th>1806</th>\n",
       "      <th>1807</th>\n",
       "      <th>1808</th>\n",
       "      <th>1809</th>\n",
       "      <th>...</th>\n",
       "      <th>2005</th>\n",
       "      <th>2006</th>\n",
       "      <th>2007</th>\n",
       "      <th>2008</th>\n",
       "      <th>2009</th>\n",
       "      <th>2010</th>\n",
       "      <th>2011</th>\n",
       "      <th>2012</th>\n",
       "      <th>2013</th>\n",
       "      <th>2014</th>\n",
       "    </tr>\n",
       "    <tr>\n",
       "      <th>country</th>\n",
       "      <th></th>\n",
       "      <th></th>\n",
       "      <th></th>\n",
       "      <th></th>\n",
       "      <th></th>\n",
       "      <th></th>\n",
       "      <th></th>\n",
       "      <th></th>\n",
       "      <th></th>\n",
       "      <th></th>\n",
       "      <th></th>\n",
       "      <th></th>\n",
       "      <th></th>\n",
       "      <th></th>\n",
       "      <th></th>\n",
       "      <th></th>\n",
       "      <th></th>\n",
       "      <th></th>\n",
       "      <th></th>\n",
       "      <th></th>\n",
       "      <th></th>\n",
       "    </tr>\n",
       "  </thead>\n",
       "  <tbody>\n",
       "    <tr>\n",
       "      <th>Afghanistan</th>\n",
       "      <td>7.00</td>\n",
       "      <td>7.00</td>\n",
       "      <td>7.00</td>\n",
       "      <td>7.00</td>\n",
       "      <td>7.00</td>\n",
       "      <td>7.00</td>\n",
       "      <td>7.00</td>\n",
       "      <td>7.00</td>\n",
       "      <td>7.00</td>\n",
       "      <td>7.00</td>\n",
       "      <td>...</td>\n",
       "      <td>6.83</td>\n",
       "      <td>6.65</td>\n",
       "      <td>6.46</td>\n",
       "      <td>6.25</td>\n",
       "      <td>6.04</td>\n",
       "      <td>5.82</td>\n",
       "      <td>5.60</td>\n",
       "      <td>5.38</td>\n",
       "      <td>5.17</td>\n",
       "      <td>4.98</td>\n",
       "    </tr>\n",
       "    <tr>\n",
       "      <th>Albania</th>\n",
       "      <td>4.60</td>\n",
       "      <td>4.60</td>\n",
       "      <td>4.60</td>\n",
       "      <td>4.60</td>\n",
       "      <td>4.60</td>\n",
       "      <td>4.60</td>\n",
       "      <td>4.60</td>\n",
       "      <td>4.60</td>\n",
       "      <td>4.60</td>\n",
       "      <td>4.60</td>\n",
       "      <td>...</td>\n",
       "      <td>1.75</td>\n",
       "      <td>1.70</td>\n",
       "      <td>1.67</td>\n",
       "      <td>1.65</td>\n",
       "      <td>1.65</td>\n",
       "      <td>1.65</td>\n",
       "      <td>1.67</td>\n",
       "      <td>1.69</td>\n",
       "      <td>1.70</td>\n",
       "      <td>1.71</td>\n",
       "    </tr>\n",
       "    <tr>\n",
       "      <th>Algeria</th>\n",
       "      <td>6.99</td>\n",
       "      <td>6.99</td>\n",
       "      <td>6.99</td>\n",
       "      <td>6.99</td>\n",
       "      <td>6.99</td>\n",
       "      <td>6.99</td>\n",
       "      <td>6.99</td>\n",
       "      <td>6.99</td>\n",
       "      <td>6.99</td>\n",
       "      <td>6.99</td>\n",
       "      <td>...</td>\n",
       "      <td>2.50</td>\n",
       "      <td>2.58</td>\n",
       "      <td>2.66</td>\n",
       "      <td>2.75</td>\n",
       "      <td>2.83</td>\n",
       "      <td>2.89</td>\n",
       "      <td>2.93</td>\n",
       "      <td>2.94</td>\n",
       "      <td>2.92</td>\n",
       "      <td>2.89</td>\n",
       "    </tr>\n",
       "    <tr>\n",
       "      <th>Angola</th>\n",
       "      <td>6.93</td>\n",
       "      <td>6.93</td>\n",
       "      <td>6.93</td>\n",
       "      <td>6.93</td>\n",
       "      <td>6.93</td>\n",
       "      <td>6.93</td>\n",
       "      <td>6.93</td>\n",
       "      <td>6.94</td>\n",
       "      <td>6.94</td>\n",
       "      <td>6.94</td>\n",
       "      <td>...</td>\n",
       "      <td>6.47</td>\n",
       "      <td>6.42</td>\n",
       "      <td>6.37</td>\n",
       "      <td>6.31</td>\n",
       "      <td>6.24</td>\n",
       "      <td>6.16</td>\n",
       "      <td>6.08</td>\n",
       "      <td>6.00</td>\n",
       "      <td>5.92</td>\n",
       "      <td>5.84</td>\n",
       "    </tr>\n",
       "    <tr>\n",
       "      <th>Antigua and Barbuda</th>\n",
       "      <td>5.00</td>\n",
       "      <td>5.00</td>\n",
       "      <td>4.99</td>\n",
       "      <td>4.99</td>\n",
       "      <td>4.99</td>\n",
       "      <td>4.98</td>\n",
       "      <td>4.98</td>\n",
       "      <td>4.97</td>\n",
       "      <td>4.97</td>\n",
       "      <td>4.97</td>\n",
       "      <td>...</td>\n",
       "      <td>2.22</td>\n",
       "      <td>2.20</td>\n",
       "      <td>2.18</td>\n",
       "      <td>2.16</td>\n",
       "      <td>2.15</td>\n",
       "      <td>2.13</td>\n",
       "      <td>2.12</td>\n",
       "      <td>2.10</td>\n",
       "      <td>2.09</td>\n",
       "      <td>2.08</td>\n",
       "    </tr>\n",
       "  </tbody>\n",
       "</table>\n",
       "<p>5 rows × 215 columns</p>\n",
       "</div>"
      ],
      "text/plain": [
       "                     1800  1801  1802  1803  1804  1805  1806  1807  1808  \\\n",
       "country                                                                     \n",
       "Afghanistan          7.00  7.00  7.00  7.00  7.00  7.00  7.00  7.00  7.00   \n",
       "Albania              4.60  4.60  4.60  4.60  4.60  4.60  4.60  4.60  4.60   \n",
       "Algeria              6.99  6.99  6.99  6.99  6.99  6.99  6.99  6.99  6.99   \n",
       "Angola               6.93  6.93  6.93  6.93  6.93  6.93  6.93  6.94  6.94   \n",
       "Antigua and Barbuda  5.00  5.00  4.99  4.99  4.99  4.98  4.98  4.97  4.97   \n",
       "\n",
       "                     1809  ...  2005  2006  2007  2008  2009  2010  2011  \\\n",
       "country                    ...                                             \n",
       "Afghanistan          7.00  ...  6.83  6.65  6.46  6.25  6.04  5.82  5.60   \n",
       "Albania              4.60  ...  1.75  1.70  1.67  1.65  1.65  1.65  1.67   \n",
       "Algeria              6.99  ...  2.50  2.58  2.66  2.75  2.83  2.89  2.93   \n",
       "Angola               6.94  ...  6.47  6.42  6.37  6.31  6.24  6.16  6.08   \n",
       "Antigua and Barbuda  4.97  ...  2.22  2.20  2.18  2.16  2.15  2.13  2.12   \n",
       "\n",
       "                     2012  2013  2014  \n",
       "country                                \n",
       "Afghanistan          5.38  5.17  4.98  \n",
       "Albania              1.69  1.70  1.71  \n",
       "Algeria              2.94  2.92  2.89  \n",
       "Angola               6.00  5.92  5.84  \n",
       "Antigua and Barbuda  2.10  2.09  2.08  \n",
       "\n",
       "[5 rows x 215 columns]"
      ]
     },
     "execution_count": 4,
     "metadata": {},
     "output_type": "execute_result"
    }
   ],
   "source": [
    "df_fertility_to2014 = df_fertility.loc[:, '1800' : '2014']\n",
    "df_fertility_to2014.head()"
   ]
  },
  {
   "cell_type": "code",
   "execution_count": 5,
   "metadata": {},
   "outputs": [
    {
     "data": {
      "text/plain": [
       "(184, 215)"
      ]
     },
     "execution_count": 5,
     "metadata": {},
     "output_type": "execute_result"
    }
   ],
   "source": [
    "df_fertility_to2014.shape"
   ]
  },
  {
   "cell_type": "markdown",
   "metadata": {},
   "source": [
    "Country names constitutes our row index, and our data table has 184 rows.  So, our data includes 184 countries.\n",
    "\n",
    "We would like to include regional categories in our data set.  For that, we need to acquire the categories and merge that with our data set.  We can obtain that from Gapminder, but not in the usual data set location.  One must look in the place where Gapminder describes how to use their data visualization tools offline and how to combine their data with one's own.  They provide a table that is intended to help with mapping to their data: <https://vizabi.org/tutorials/2017/04/04/join-your-data-with-g/>  This has what we need.  We will use their division of the world into 6 regions (`world_6region`) instead of their division into just 4 (`world_4region`)."
   ]
  },
  {
   "cell_type": "code",
   "execution_count": 6,
   "metadata": {},
   "outputs": [
    {
     "data": {
      "text/html": [
       "<div>\n",
       "<style scoped>\n",
       "    .dataframe tbody tr th:only-of-type {\n",
       "        vertical-align: middle;\n",
       "    }\n",
       "\n",
       "    .dataframe tbody tr th {\n",
       "        vertical-align: top;\n",
       "    }\n",
       "\n",
       "    .dataframe thead th {\n",
       "        text-align: right;\n",
       "    }\n",
       "</style>\n",
       "<table border=\"1\" class=\"dataframe\">\n",
       "  <thead>\n",
       "    <tr style=\"text-align: right;\">\n",
       "      <th></th>\n",
       "      <th>country</th>\n",
       "      <th>gwid</th>\n",
       "      <th>world_6region</th>\n",
       "      <th>income_groups</th>\n",
       "      <th>landlocked</th>\n",
       "      <th>g77_and_oecd_countries</th>\n",
       "      <th>main_religion_2008</th>\n",
       "      <th>gapminder_list</th>\n",
       "      <th>alternative_1</th>\n",
       "      <th>alternative_2</th>\n",
       "      <th>...</th>\n",
       "      <th>arb2</th>\n",
       "      <th>arb3</th>\n",
       "      <th>arb4</th>\n",
       "      <th>arb5</th>\n",
       "      <th>arb6</th>\n",
       "      <th>is--country</th>\n",
       "      <th>un_state</th>\n",
       "      <th>world_4region</th>\n",
       "      <th>latitude</th>\n",
       "      <th>longitude</th>\n",
       "    </tr>\n",
       "    <tr>\n",
       "      <th>name</th>\n",
       "      <th></th>\n",
       "      <th></th>\n",
       "      <th></th>\n",
       "      <th></th>\n",
       "      <th></th>\n",
       "      <th></th>\n",
       "      <th></th>\n",
       "      <th></th>\n",
       "      <th></th>\n",
       "      <th></th>\n",
       "      <th></th>\n",
       "      <th></th>\n",
       "      <th></th>\n",
       "      <th></th>\n",
       "      <th></th>\n",
       "      <th></th>\n",
       "      <th></th>\n",
       "      <th></th>\n",
       "      <th></th>\n",
       "      <th></th>\n",
       "      <th></th>\n",
       "    </tr>\n",
       "  </thead>\n",
       "  <tbody>\n",
       "    <tr>\n",
       "      <th>Abkhazia</th>\n",
       "      <td>abkh</td>\n",
       "      <td>i0</td>\n",
       "      <td>europe_central_asia</td>\n",
       "      <td>NaN</td>\n",
       "      <td>NaN</td>\n",
       "      <td>others</td>\n",
       "      <td>NaN</td>\n",
       "      <td>Abkhazia</td>\n",
       "      <td>NaN</td>\n",
       "      <td>NaN</td>\n",
       "      <td>...</td>\n",
       "      <td>NaN</td>\n",
       "      <td>NaN</td>\n",
       "      <td>NaN</td>\n",
       "      <td>NaN</td>\n",
       "      <td>NaN</td>\n",
       "      <td>True</td>\n",
       "      <td>False</td>\n",
       "      <td>europe</td>\n",
       "      <td>NaN</td>\n",
       "      <td>NaN</td>\n",
       "    </tr>\n",
       "    <tr>\n",
       "      <th>Afghanistan</th>\n",
       "      <td>afg</td>\n",
       "      <td>i1</td>\n",
       "      <td>south_asia</td>\n",
       "      <td>low_income</td>\n",
       "      <td>landlocked</td>\n",
       "      <td>g77</td>\n",
       "      <td>muslim</td>\n",
       "      <td>Afghanistan</td>\n",
       "      <td>Islamic Republic of Afghanistan</td>\n",
       "      <td>NaN</td>\n",
       "      <td>...</td>\n",
       "      <td>NaN</td>\n",
       "      <td>NaN</td>\n",
       "      <td>NaN</td>\n",
       "      <td>NaN</td>\n",
       "      <td>NaN</td>\n",
       "      <td>True</td>\n",
       "      <td>True</td>\n",
       "      <td>asia</td>\n",
       "      <td>33.00</td>\n",
       "      <td>66.0</td>\n",
       "    </tr>\n",
       "    <tr>\n",
       "      <th>Akrotiri and Dhekelia</th>\n",
       "      <td>akr_a_dhe</td>\n",
       "      <td>i2</td>\n",
       "      <td>europe_central_asia</td>\n",
       "      <td>NaN</td>\n",
       "      <td>coastline</td>\n",
       "      <td>others</td>\n",
       "      <td>NaN</td>\n",
       "      <td>Akrotiri and Dhekelia</td>\n",
       "      <td>NaN</td>\n",
       "      <td>NaN</td>\n",
       "      <td>...</td>\n",
       "      <td>NaN</td>\n",
       "      <td>NaN</td>\n",
       "      <td>NaN</td>\n",
       "      <td>NaN</td>\n",
       "      <td>NaN</td>\n",
       "      <td>True</td>\n",
       "      <td>False</td>\n",
       "      <td>europe</td>\n",
       "      <td>NaN</td>\n",
       "      <td>NaN</td>\n",
       "    </tr>\n",
       "    <tr>\n",
       "      <th>Åland</th>\n",
       "      <td>ala</td>\n",
       "      <td>i258</td>\n",
       "      <td>europe_central_asia</td>\n",
       "      <td>NaN</td>\n",
       "      <td>coastline</td>\n",
       "      <td>others</td>\n",
       "      <td>NaN</td>\n",
       "      <td>Åland</td>\n",
       "      <td>√Öland</td>\n",
       "      <td>NaN</td>\n",
       "      <td>...</td>\n",
       "      <td>NaN</td>\n",
       "      <td>NaN</td>\n",
       "      <td>NaN</td>\n",
       "      <td>NaN</td>\n",
       "      <td>NaN</td>\n",
       "      <td>True</td>\n",
       "      <td>False</td>\n",
       "      <td>europe</td>\n",
       "      <td>60.25</td>\n",
       "      <td>20.0</td>\n",
       "    </tr>\n",
       "    <tr>\n",
       "      <th>Albania</th>\n",
       "      <td>alb</td>\n",
       "      <td>i3</td>\n",
       "      <td>europe_central_asia</td>\n",
       "      <td>upper_middle_income</td>\n",
       "      <td>coastline</td>\n",
       "      <td>others</td>\n",
       "      <td>muslim</td>\n",
       "      <td>Albania</td>\n",
       "      <td>NaN</td>\n",
       "      <td>NaN</td>\n",
       "      <td>...</td>\n",
       "      <td>NaN</td>\n",
       "      <td>NaN</td>\n",
       "      <td>NaN</td>\n",
       "      <td>NaN</td>\n",
       "      <td>NaN</td>\n",
       "      <td>True</td>\n",
       "      <td>True</td>\n",
       "      <td>europe</td>\n",
       "      <td>41.00</td>\n",
       "      <td>20.0</td>\n",
       "    </tr>\n",
       "  </tbody>\n",
       "</table>\n",
       "<p>5 rows × 32 columns</p>\n",
       "</div>"
      ],
      "text/plain": [
       "                         country  gwid        world_6region  \\\n",
       "name                                                          \n",
       "Abkhazia                    abkh    i0  europe_central_asia   \n",
       "Afghanistan                  afg    i1           south_asia   \n",
       "Akrotiri and Dhekelia  akr_a_dhe    i2  europe_central_asia   \n",
       "Åland                        ala  i258  europe_central_asia   \n",
       "Albania                      alb    i3  europe_central_asia   \n",
       "\n",
       "                             income_groups  landlocked g77_and_oecd_countries  \\\n",
       "name                                                                            \n",
       "Abkhazia                               NaN         NaN                 others   \n",
       "Afghanistan                     low_income  landlocked                    g77   \n",
       "Akrotiri and Dhekelia                  NaN   coastline                 others   \n",
       "Åland                                  NaN   coastline                 others   \n",
       "Albania                upper_middle_income   coastline                 others   \n",
       "\n",
       "                      main_religion_2008         gapminder_list  \\\n",
       "name                                                              \n",
       "Abkhazia                             NaN               Abkhazia   \n",
       "Afghanistan                       muslim            Afghanistan   \n",
       "Akrotiri and Dhekelia                NaN  Akrotiri and Dhekelia   \n",
       "Åland                                NaN                  Åland   \n",
       "Albania                           muslim                Albania   \n",
       "\n",
       "                                         alternative_1 alternative_2  ...  \\\n",
       "name                                                                  ...   \n",
       "Abkhazia                                           NaN           NaN  ...   \n",
       "Afghanistan            Islamic Republic of Afghanistan           NaN  ...   \n",
       "Akrotiri and Dhekelia                              NaN           NaN  ...   \n",
       "Åland                                           √Öland           NaN  ...   \n",
       "Albania                                            NaN           NaN  ...   \n",
       "\n",
       "                      arb2 arb3 arb4 arb5 arb6 is--country un_state  \\\n",
       "name                                                                  \n",
       "Abkhazia               NaN  NaN  NaN  NaN  NaN        True    False   \n",
       "Afghanistan            NaN  NaN  NaN  NaN  NaN        True     True   \n",
       "Akrotiri and Dhekelia  NaN  NaN  NaN  NaN  NaN        True    False   \n",
       "Åland                  NaN  NaN  NaN  NaN  NaN        True    False   \n",
       "Albania                NaN  NaN  NaN  NaN  NaN        True     True   \n",
       "\n",
       "                      world_4region  latitude longitude  \n",
       "name                                                     \n",
       "Abkhazia                     europe       NaN       NaN  \n",
       "Afghanistan                    asia     33.00      66.0  \n",
       "Akrotiri and Dhekelia        europe       NaN       NaN  \n",
       "Åland                        europe     60.25      20.0  \n",
       "Albania                      europe     41.00      20.0  \n",
       "\n",
       "[5 rows x 32 columns]"
      ]
     },
     "execution_count": 6,
     "metadata": {},
     "output_type": "execute_result"
    }
   ],
   "source": [
    "df_countries = pd.read_csv('ddf--entities--geo--country.csv', index_col='name')\n",
    "df_countries.head()"
   ]
  },
  {
   "cell_type": "code",
   "execution_count": 7,
   "metadata": {},
   "outputs": [
    {
     "data": {
      "text/plain": [
       "name\n",
       "Abkhazia                 europe_central_asia\n",
       "Afghanistan                       south_asia\n",
       "Akrotiri and Dhekelia    europe_central_asia\n",
       "Åland                    europe_central_asia\n",
       "Albania                  europe_central_asia\n",
       "Name: world_6region, dtype: object"
      ]
     },
     "execution_count": 7,
     "metadata": {},
     "output_type": "execute_result"
    }
   ],
   "source": [
    "df_countries = df_countries['world_6region']\n",
    "df_countries.head()"
   ]
  },
  {
   "cell_type": "code",
   "execution_count": 8,
   "metadata": {},
   "outputs": [
    {
     "data": {
      "text/plain": [
       "(273,)"
      ]
     },
     "execution_count": 8,
     "metadata": {},
     "output_type": "execute_result"
    }
   ],
   "source": [
    "df_countries.shape"
   ]
  },
  {
   "cell_type": "markdown",
   "metadata": {},
   "source": [
    "We expect that the list of countries in `df_fertility_to2014` is a proper subset of the total list of countries in `df_countries`, but we should check that there aren't any country names in the former that are not in the latter."
   ]
  },
  {
   "cell_type": "code",
   "execution_count": 9,
   "metadata": {},
   "outputs": [
    {
     "data": {
      "text/plain": [
       "Index(['North Macedonia'], dtype='object')"
      ]
     },
     "execution_count": 9,
     "metadata": {},
     "output_type": "execute_result"
    }
   ],
   "source": [
    "df_fertility.index.difference(df_countries.index)    # Return set difference: index1 - index2"
   ]
  },
  {
   "cell_type": "markdown",
   "metadata": {},
   "source": [
    "The check leads us to realize that 'North Macedonia' shows up as a country index in the fertility data frame but does not show up in the total countries list.  Does it have a different name in the total countries list?"
   ]
  },
  {
   "cell_type": "code",
   "execution_count": 10,
   "metadata": {},
   "outputs": [
    {
     "data": {
      "text/plain": [
       "['Macedonia, FYR']"
      ]
     },
     "execution_count": 10,
     "metadata": {},
     "output_type": "execute_result"
    }
   ],
   "source": [
    "ctry_index = df_countries.index.to_list()\n",
    "[i for i in ctry_index if 'Macedonia' in i]"
   ]
  },
  {
   "cell_type": "markdown",
   "metadata": {},
   "source": [
    "It appears that 'North Macedonia' occurs in the total countries list under a different name.  There, it is called 'Macedonia, FYR' where 'FYR' appears to refer to \"Former Yugoslav Republic\".  A check on Wikipedia, looking at 'North Macedonia', confirms that these two are the same country.\n",
    "\n",
    "So, we change the name in the countries list to 'North Macedonia' in keeping with the fertility data frame index."
   ]
  },
  {
   "cell_type": "code",
   "execution_count": 11,
   "metadata": {},
   "outputs": [
    {
     "data": {
      "text/plain": [
       "'europe_central_asia'"
      ]
     },
     "execution_count": 11,
     "metadata": {},
     "output_type": "execute_result"
    }
   ],
   "source": [
    "df_countries.rename(index={'Macedonia, FYR': 'North Macedonia'}, inplace=True)\n",
    "df_countries.loc['North Macedonia']"
   ]
  },
  {
   "cell_type": "markdown",
   "metadata": {},
   "source": [
    "We merge the two data frames so as to include the region data with the fertility data."
   ]
  },
  {
   "cell_type": "code",
   "execution_count": 12,
   "metadata": {},
   "outputs": [
    {
     "data": {
      "text/html": [
       "<div>\n",
       "<style scoped>\n",
       "    .dataframe tbody tr th:only-of-type {\n",
       "        vertical-align: middle;\n",
       "    }\n",
       "\n",
       "    .dataframe tbody tr th {\n",
       "        vertical-align: top;\n",
       "    }\n",
       "\n",
       "    .dataframe thead th {\n",
       "        text-align: right;\n",
       "    }\n",
       "</style>\n",
       "<table border=\"1\" class=\"dataframe\">\n",
       "  <thead>\n",
       "    <tr style=\"text-align: right;\">\n",
       "      <th></th>\n",
       "      <th>1800</th>\n",
       "      <th>1801</th>\n",
       "      <th>1802</th>\n",
       "      <th>1803</th>\n",
       "      <th>1804</th>\n",
       "      <th>1805</th>\n",
       "      <th>1806</th>\n",
       "      <th>1807</th>\n",
       "      <th>1808</th>\n",
       "      <th>1809</th>\n",
       "      <th>...</th>\n",
       "      <th>2006</th>\n",
       "      <th>2007</th>\n",
       "      <th>2008</th>\n",
       "      <th>2009</th>\n",
       "      <th>2010</th>\n",
       "      <th>2011</th>\n",
       "      <th>2012</th>\n",
       "      <th>2013</th>\n",
       "      <th>2014</th>\n",
       "      <th>regions</th>\n",
       "    </tr>\n",
       "  </thead>\n",
       "  <tbody>\n",
       "    <tr>\n",
       "      <th>Afghanistan</th>\n",
       "      <td>7.00</td>\n",
       "      <td>7.00</td>\n",
       "      <td>7.00</td>\n",
       "      <td>7.00</td>\n",
       "      <td>7.00</td>\n",
       "      <td>7.00</td>\n",
       "      <td>7.00</td>\n",
       "      <td>7.00</td>\n",
       "      <td>7.00</td>\n",
       "      <td>7.00</td>\n",
       "      <td>...</td>\n",
       "      <td>6.65</td>\n",
       "      <td>6.46</td>\n",
       "      <td>6.25</td>\n",
       "      <td>6.04</td>\n",
       "      <td>5.82</td>\n",
       "      <td>5.60</td>\n",
       "      <td>5.38</td>\n",
       "      <td>5.17</td>\n",
       "      <td>4.98</td>\n",
       "      <td>south_asia</td>\n",
       "    </tr>\n",
       "    <tr>\n",
       "      <th>Albania</th>\n",
       "      <td>4.60</td>\n",
       "      <td>4.60</td>\n",
       "      <td>4.60</td>\n",
       "      <td>4.60</td>\n",
       "      <td>4.60</td>\n",
       "      <td>4.60</td>\n",
       "      <td>4.60</td>\n",
       "      <td>4.60</td>\n",
       "      <td>4.60</td>\n",
       "      <td>4.60</td>\n",
       "      <td>...</td>\n",
       "      <td>1.70</td>\n",
       "      <td>1.67</td>\n",
       "      <td>1.65</td>\n",
       "      <td>1.65</td>\n",
       "      <td>1.65</td>\n",
       "      <td>1.67</td>\n",
       "      <td>1.69</td>\n",
       "      <td>1.70</td>\n",
       "      <td>1.71</td>\n",
       "      <td>europe_central_asia</td>\n",
       "    </tr>\n",
       "    <tr>\n",
       "      <th>Algeria</th>\n",
       "      <td>6.99</td>\n",
       "      <td>6.99</td>\n",
       "      <td>6.99</td>\n",
       "      <td>6.99</td>\n",
       "      <td>6.99</td>\n",
       "      <td>6.99</td>\n",
       "      <td>6.99</td>\n",
       "      <td>6.99</td>\n",
       "      <td>6.99</td>\n",
       "      <td>6.99</td>\n",
       "      <td>...</td>\n",
       "      <td>2.58</td>\n",
       "      <td>2.66</td>\n",
       "      <td>2.75</td>\n",
       "      <td>2.83</td>\n",
       "      <td>2.89</td>\n",
       "      <td>2.93</td>\n",
       "      <td>2.94</td>\n",
       "      <td>2.92</td>\n",
       "      <td>2.89</td>\n",
       "      <td>middle_east_north_africa</td>\n",
       "    </tr>\n",
       "    <tr>\n",
       "      <th>Angola</th>\n",
       "      <td>6.93</td>\n",
       "      <td>6.93</td>\n",
       "      <td>6.93</td>\n",
       "      <td>6.93</td>\n",
       "      <td>6.93</td>\n",
       "      <td>6.93</td>\n",
       "      <td>6.93</td>\n",
       "      <td>6.94</td>\n",
       "      <td>6.94</td>\n",
       "      <td>6.94</td>\n",
       "      <td>...</td>\n",
       "      <td>6.42</td>\n",
       "      <td>6.37</td>\n",
       "      <td>6.31</td>\n",
       "      <td>6.24</td>\n",
       "      <td>6.16</td>\n",
       "      <td>6.08</td>\n",
       "      <td>6.00</td>\n",
       "      <td>5.92</td>\n",
       "      <td>5.84</td>\n",
       "      <td>sub_saharan_africa</td>\n",
       "    </tr>\n",
       "    <tr>\n",
       "      <th>Antigua and Barbuda</th>\n",
       "      <td>5.00</td>\n",
       "      <td>5.00</td>\n",
       "      <td>4.99</td>\n",
       "      <td>4.99</td>\n",
       "      <td>4.99</td>\n",
       "      <td>4.98</td>\n",
       "      <td>4.98</td>\n",
       "      <td>4.97</td>\n",
       "      <td>4.97</td>\n",
       "      <td>4.97</td>\n",
       "      <td>...</td>\n",
       "      <td>2.20</td>\n",
       "      <td>2.18</td>\n",
       "      <td>2.16</td>\n",
       "      <td>2.15</td>\n",
       "      <td>2.13</td>\n",
       "      <td>2.12</td>\n",
       "      <td>2.10</td>\n",
       "      <td>2.09</td>\n",
       "      <td>2.08</td>\n",
       "      <td>america</td>\n",
       "    </tr>\n",
       "  </tbody>\n",
       "</table>\n",
       "<p>5 rows × 216 columns</p>\n",
       "</div>"
      ],
      "text/plain": [
       "                     1800  1801  1802  1803  1804  1805  1806  1807  1808  \\\n",
       "Afghanistan          7.00  7.00  7.00  7.00  7.00  7.00  7.00  7.00  7.00   \n",
       "Albania              4.60  4.60  4.60  4.60  4.60  4.60  4.60  4.60  4.60   \n",
       "Algeria              6.99  6.99  6.99  6.99  6.99  6.99  6.99  6.99  6.99   \n",
       "Angola               6.93  6.93  6.93  6.93  6.93  6.93  6.93  6.94  6.94   \n",
       "Antigua and Barbuda  5.00  5.00  4.99  4.99  4.99  4.98  4.98  4.97  4.97   \n",
       "\n",
       "                     1809  ...  2006  2007  2008  2009  2010  2011  2012  \\\n",
       "Afghanistan          7.00  ...  6.65  6.46  6.25  6.04  5.82  5.60  5.38   \n",
       "Albania              4.60  ...  1.70  1.67  1.65  1.65  1.65  1.67  1.69   \n",
       "Algeria              6.99  ...  2.58  2.66  2.75  2.83  2.89  2.93  2.94   \n",
       "Angola               6.94  ...  6.42  6.37  6.31  6.24  6.16  6.08  6.00   \n",
       "Antigua and Barbuda  4.97  ...  2.20  2.18  2.16  2.15  2.13  2.12  2.10   \n",
       "\n",
       "                     2013  2014                   regions  \n",
       "Afghanistan          5.17  4.98                south_asia  \n",
       "Albania              1.70  1.71       europe_central_asia  \n",
       "Algeria              2.92  2.89  middle_east_north_africa  \n",
       "Angola               5.92  5.84        sub_saharan_africa  \n",
       "Antigua and Barbuda  2.09  2.08                   america  \n",
       "\n",
       "[5 rows x 216 columns]"
      ]
     },
     "execution_count": 12,
     "metadata": {},
     "output_type": "execute_result"
    }
   ],
   "source": [
    "df_fertility_to2014 = pd.merge(df_fertility_to2014, df_countries.rename('regions'), how='inner', left_index=True, right_index=True)\n",
    "df_fertility_to2014.head()"
   ]
  },
  {
   "cell_type": "code",
   "execution_count": 13,
   "metadata": {},
   "outputs": [
    {
     "name": "stdout",
     "output_type": "stream",
     "text": [
      "<class 'pandas.core.frame.DataFrame'>\n",
      "Index: 184 entries, Afghanistan to Zimbabwe\n",
      "Columns: 216 entries, 1800 to regions\n",
      "dtypes: float64(215), object(1)\n",
      "memory usage: 311.9+ KB\n"
     ]
    }
   ],
   "source": [
    "df_fertility_to2014.info()"
   ]
  },
  {
   "cell_type": "markdown",
   "metadata": {},
   "source": [
    "### Data Frame - 2011 Fertility Rate and Other Variables\n",
    "\n",
    "Now, we will create a data frame focused on a \"current\" year.  We choose 2011.  Our reasons for that choice were explained in the introduction."
   ]
  },
  {
   "cell_type": "code",
   "execution_count": 14,
   "metadata": {},
   "outputs": [
    {
     "data": {
      "text/html": [
       "<div>\n",
       "<style scoped>\n",
       "    .dataframe tbody tr th:only-of-type {\n",
       "        vertical-align: middle;\n",
       "    }\n",
       "\n",
       "    .dataframe tbody tr th {\n",
       "        vertical-align: top;\n",
       "    }\n",
       "\n",
       "    .dataframe thead th {\n",
       "        text-align: right;\n",
       "    }\n",
       "</style>\n",
       "<table border=\"1\" class=\"dataframe\">\n",
       "  <thead>\n",
       "    <tr style=\"text-align: right;\">\n",
       "      <th></th>\n",
       "      <th>fertility_rate</th>\n",
       "      <th>regions</th>\n",
       "    </tr>\n",
       "  </thead>\n",
       "  <tbody>\n",
       "    <tr>\n",
       "      <th>Afghanistan</th>\n",
       "      <td>5.60</td>\n",
       "      <td>south_asia</td>\n",
       "    </tr>\n",
       "    <tr>\n",
       "      <th>Albania</th>\n",
       "      <td>1.67</td>\n",
       "      <td>europe_central_asia</td>\n",
       "    </tr>\n",
       "    <tr>\n",
       "      <th>Algeria</th>\n",
       "      <td>2.93</td>\n",
       "      <td>middle_east_north_africa</td>\n",
       "    </tr>\n",
       "    <tr>\n",
       "      <th>Angola</th>\n",
       "      <td>6.08</td>\n",
       "      <td>sub_saharan_africa</td>\n",
       "    </tr>\n",
       "    <tr>\n",
       "      <th>Antigua and Barbuda</th>\n",
       "      <td>2.12</td>\n",
       "      <td>america</td>\n",
       "    </tr>\n",
       "  </tbody>\n",
       "</table>\n",
       "</div>"
      ],
      "text/plain": [
       "                     fertility_rate                   regions\n",
       "Afghanistan                    5.60                south_asia\n",
       "Albania                        1.67       europe_central_asia\n",
       "Algeria                        2.93  middle_east_north_africa\n",
       "Angola                         6.08        sub_saharan_africa\n",
       "Antigua and Barbuda            2.12                   america"
      ]
     },
     "execution_count": 14,
     "metadata": {},
     "output_type": "execute_result"
    }
   ],
   "source": [
    "df_2011 = df_fertility_to2014[['2011', 'regions']].rename(columns = {'2011':'fertility_rate'})\n",
    "df_2011.head()"
   ]
  },
  {
   "cell_type": "markdown",
   "metadata": {},
   "source": [
    "To answer question 3, we will need to compare fertility rate with other factors -- in particular, income, life expectancy, sanitation, female literacy, female employment, and contraceptive use.  We will add these factors one-by-one to the data frame."
   ]
  },
  {
   "cell_type": "markdown",
   "metadata": {},
   "source": [
    "#### Income: GDP per capita, constant PPP dollars\n",
    "Gapminder description: \"GDP per capita measures the value of everything produced in a country during a year, divided by the number of people. The unit is in international dollars, fixed 2011 prices. The data is adjusted for inflation and differences in the cost of living between countries, so-called PPP dollars.\"\n",
    "\n",
    "The end of the time series, between 1990 and 2018, uses the GDP per capita data from the World Bank, published in July 2019 in their World Development Indicators. The data set extends from 1800 to 2040.\n",
    "\n",
    "Gapminder's documentation: https://www.gapminder.org/data/documentation/gd001/"
   ]
  },
  {
   "cell_type": "code",
   "execution_count": 15,
   "metadata": {},
   "outputs": [
    {
     "data": {
      "text/plain": [
       "country\n",
       "Afghanistan     1630\n",
       "Albania        10200\n",
       "Algeria        13000\n",
       "Andorra        42000\n",
       "Angola          6350\n",
       "Name: income, dtype: int64"
      ]
     },
     "execution_count": 15,
     "metadata": {},
     "output_type": "execute_result"
    }
   ],
   "source": [
    "df_income = pd.read_csv('income_per_person_gdppercapita_ppp_inflation_adjusted.csv', index_col='country')['2011']\n",
    "df_income.rename('income', inplace=True).head()"
   ]
  },
  {
   "cell_type": "markdown",
   "metadata": {},
   "source": [
    "We create a function we will use to summarize basic information about the variable data we are interested in."
   ]
  },
  {
   "cell_type": "code",
   "execution_count": 16,
   "metadata": {},
   "outputs": [],
   "source": [
    "def dsummary(df):\n",
    "    message = 'The data set for this variable includes {num} countries and there are {null} null values.'.format(num=len(df), null=df.isnull().sum())\n",
    "    print(message)"
   ]
  },
  {
   "cell_type": "code",
   "execution_count": 17,
   "metadata": {},
   "outputs": [
    {
     "name": "stdout",
     "output_type": "stream",
     "text": [
      "The data set for this variable includes 193 countries and there are 0 null values.\n"
     ]
    }
   ],
   "source": [
    "dsummary(df_income)"
   ]
  },
  {
   "cell_type": "code",
   "execution_count": 18,
   "metadata": {},
   "outputs": [
    {
     "data": {
      "text/html": [
       "<div>\n",
       "<style scoped>\n",
       "    .dataframe tbody tr th:only-of-type {\n",
       "        vertical-align: middle;\n",
       "    }\n",
       "\n",
       "    .dataframe tbody tr th {\n",
       "        vertical-align: top;\n",
       "    }\n",
       "\n",
       "    .dataframe thead th {\n",
       "        text-align: right;\n",
       "    }\n",
       "</style>\n",
       "<table border=\"1\" class=\"dataframe\">\n",
       "  <thead>\n",
       "    <tr style=\"text-align: right;\">\n",
       "      <th></th>\n",
       "      <th>fertility_rate</th>\n",
       "      <th>regions</th>\n",
       "      <th>income</th>\n",
       "    </tr>\n",
       "  </thead>\n",
       "  <tbody>\n",
       "    <tr>\n",
       "      <th>Afghanistan</th>\n",
       "      <td>5.60</td>\n",
       "      <td>south_asia</td>\n",
       "      <td>1630</td>\n",
       "    </tr>\n",
       "    <tr>\n",
       "      <th>Albania</th>\n",
       "      <td>1.67</td>\n",
       "      <td>europe_central_asia</td>\n",
       "      <td>10200</td>\n",
       "    </tr>\n",
       "    <tr>\n",
       "      <th>Algeria</th>\n",
       "      <td>2.93</td>\n",
       "      <td>middle_east_north_africa</td>\n",
       "      <td>13000</td>\n",
       "    </tr>\n",
       "    <tr>\n",
       "      <th>Angola</th>\n",
       "      <td>6.08</td>\n",
       "      <td>sub_saharan_africa</td>\n",
       "      <td>6350</td>\n",
       "    </tr>\n",
       "    <tr>\n",
       "      <th>Antigua and Barbuda</th>\n",
       "      <td>2.12</td>\n",
       "      <td>america</td>\n",
       "      <td>20000</td>\n",
       "    </tr>\n",
       "  </tbody>\n",
       "</table>\n",
       "</div>"
      ],
      "text/plain": [
       "                     fertility_rate                   regions  income\n",
       "Afghanistan                    5.60                south_asia    1630\n",
       "Albania                        1.67       europe_central_asia   10200\n",
       "Algeria                        2.93  middle_east_north_africa   13000\n",
       "Angola                         6.08        sub_saharan_africa    6350\n",
       "Antigua and Barbuda            2.12                   america   20000"
      ]
     },
     "execution_count": 18,
     "metadata": {},
     "output_type": "execute_result"
    }
   ],
   "source": [
    "df_2011 = pd.merge(df_2011, df_income, how='inner', left_index=True, right_index=True)\n",
    "df_2011.head()"
   ]
  },
  {
   "cell_type": "code",
   "execution_count": 19,
   "metadata": {},
   "outputs": [
    {
     "name": "stdout",
     "output_type": "stream",
     "text": [
      "<class 'pandas.core.frame.DataFrame'>\n",
      "Index: 184 entries, Afghanistan to Zimbabwe\n",
      "Data columns (total 3 columns):\n",
      " #   Column          Non-Null Count  Dtype  \n",
      "---  ------          --------------  -----  \n",
      " 0   fertility_rate  184 non-null    float64\n",
      " 1   regions         184 non-null    object \n",
      " 2   income          184 non-null    int64  \n",
      "dtypes: float64(1), int64(1), object(1)\n",
      "memory usage: 5.8+ KB\n"
     ]
    }
   ],
   "source": [
    "df_2011.info()"
   ]
  },
  {
   "cell_type": "markdown",
   "metadata": {},
   "source": [
    "#### Life Expectancy (years)\n",
    "Gapminder description: \"The average number of years a newborn child would live if current mortality patterns were to stay the same.\"\n",
    "\n",
    "The data set extends from 1800 to 2100 so future years involve projections.\n",
    "\n",
    "Documentation: <https://www.gapminder.org/data/documentation/gd004/>"
   ]
  },
  {
   "cell_type": "code",
   "execution_count": 20,
   "metadata": {},
   "outputs": [
    {
     "data": {
      "text/plain": [
       "country\n",
       "Afghanistan    60.4\n",
       "Albania        77.7\n",
       "Algeria        76.5\n",
       "Andorra        82.4\n",
       "Angola         60.6\n",
       "Name: life_expect, dtype: float64"
      ]
     },
     "execution_count": 20,
     "metadata": {},
     "output_type": "execute_result"
    }
   ],
   "source": [
    "df_life_expect = pd.read_csv('life_expectancy_years.csv', index_col = 'country')['2011']\n",
    "df_life_expect.rename('life_expect', inplace=True).head()"
   ]
  },
  {
   "cell_type": "code",
   "execution_count": 21,
   "metadata": {},
   "outputs": [
    {
     "name": "stdout",
     "output_type": "stream",
     "text": [
      "The data set for this variable includes 187 countries and there are 0 null values.\n"
     ]
    }
   ],
   "source": [
    "dsummary(df_life_expect)"
   ]
  },
  {
   "cell_type": "code",
   "execution_count": 22,
   "metadata": {},
   "outputs": [
    {
     "data": {
      "text/html": [
       "<div>\n",
       "<style scoped>\n",
       "    .dataframe tbody tr th:only-of-type {\n",
       "        vertical-align: middle;\n",
       "    }\n",
       "\n",
       "    .dataframe tbody tr th {\n",
       "        vertical-align: top;\n",
       "    }\n",
       "\n",
       "    .dataframe thead th {\n",
       "        text-align: right;\n",
       "    }\n",
       "</style>\n",
       "<table border=\"1\" class=\"dataframe\">\n",
       "  <thead>\n",
       "    <tr style=\"text-align: right;\">\n",
       "      <th></th>\n",
       "      <th>fertility_rate</th>\n",
       "      <th>regions</th>\n",
       "      <th>income</th>\n",
       "      <th>life_expect</th>\n",
       "    </tr>\n",
       "  </thead>\n",
       "  <tbody>\n",
       "    <tr>\n",
       "      <th>Afghanistan</th>\n",
       "      <td>5.60</td>\n",
       "      <td>south_asia</td>\n",
       "      <td>1630</td>\n",
       "      <td>60.4</td>\n",
       "    </tr>\n",
       "    <tr>\n",
       "      <th>Albania</th>\n",
       "      <td>1.67</td>\n",
       "      <td>europe_central_asia</td>\n",
       "      <td>10200</td>\n",
       "      <td>77.7</td>\n",
       "    </tr>\n",
       "    <tr>\n",
       "      <th>Algeria</th>\n",
       "      <td>2.93</td>\n",
       "      <td>middle_east_north_africa</td>\n",
       "      <td>13000</td>\n",
       "      <td>76.5</td>\n",
       "    </tr>\n",
       "    <tr>\n",
       "      <th>Angola</th>\n",
       "      <td>6.08</td>\n",
       "      <td>sub_saharan_africa</td>\n",
       "      <td>6350</td>\n",
       "      <td>60.6</td>\n",
       "    </tr>\n",
       "    <tr>\n",
       "      <th>Antigua and Barbuda</th>\n",
       "      <td>2.12</td>\n",
       "      <td>america</td>\n",
       "      <td>20000</td>\n",
       "      <td>76.7</td>\n",
       "    </tr>\n",
       "  </tbody>\n",
       "</table>\n",
       "</div>"
      ],
      "text/plain": [
       "                     fertility_rate                   regions  income  \\\n",
       "Afghanistan                    5.60                south_asia    1630   \n",
       "Albania                        1.67       europe_central_asia   10200   \n",
       "Algeria                        2.93  middle_east_north_africa   13000   \n",
       "Angola                         6.08        sub_saharan_africa    6350   \n",
       "Antigua and Barbuda            2.12                   america   20000   \n",
       "\n",
       "                     life_expect  \n",
       "Afghanistan                 60.4  \n",
       "Albania                     77.7  \n",
       "Algeria                     76.5  \n",
       "Angola                      60.6  \n",
       "Antigua and Barbuda         76.7  "
      ]
     },
     "execution_count": 22,
     "metadata": {},
     "output_type": "execute_result"
    }
   ],
   "source": [
    "df_2011 = pd.merge(df_2011, df_life_expect, how='inner', left_index=True, right_index=True)\n",
    "df_2011.head()"
   ]
  },
  {
   "cell_type": "code",
   "execution_count": 23,
   "metadata": {},
   "outputs": [
    {
     "name": "stdout",
     "output_type": "stream",
     "text": [
      "<class 'pandas.core.frame.DataFrame'>\n",
      "Index: 184 entries, Afghanistan to Zimbabwe\n",
      "Data columns (total 4 columns):\n",
      " #   Column          Non-Null Count  Dtype  \n",
      "---  ------          --------------  -----  \n",
      " 0   fertility_rate  184 non-null    float64\n",
      " 1   regions         184 non-null    object \n",
      " 2   income          184 non-null    int64  \n",
      " 3   life_expect     184 non-null    float64\n",
      "dtypes: float64(2), int64(1), object(1)\n",
      "memory usage: 7.2+ KB\n"
     ]
    }
   ],
   "source": [
    "df_2011.info()"
   ]
  },
  {
   "cell_type": "markdown",
   "metadata": {},
   "source": [
    "#### Sanitation: At least basic sanitation, overall access (%)\n",
    "Gapminder description: \"The percentage of people using at least basic sanitation services, that is, improved sanitation facilities that are not shared with other households.  This indicator encompasses both people using basic sanitation services as well as those using safely managed sanitation services. Improved sanitation facilities include flush/pour flush to piped sewer systems, septic tanks or pit latrines; ventilated improved pit latrines, compositing toilets or pit latrines with slabs.\"\n",
    "\n",
    "The data set extends from 2000 to 2017.\n",
    "\n",
    "Gapminder's data source: <https://data.worldbank.org/indicator/SH.STA.SMSS.ZS>"
   ]
  },
  {
   "cell_type": "code",
   "execution_count": 24,
   "metadata": {},
   "outputs": [
    {
     "data": {
      "text/plain": [
       "country\n",
       "Afghanistan    0.355\n",
       "Albania        0.962\n",
       "Algeria        0.868\n",
       "Andorra        1.000\n",
       "Angola         0.423\n",
       "Name: sanitation, dtype: float64"
      ]
     },
     "execution_count": 24,
     "metadata": {},
     "output_type": "execute_result"
    }
   ],
   "source": [
    "df_sanitation = pd.read_csv('at_least_basic_sanitation_overall_access_percent.csv', index_col= 'country')['2011']\n",
    "df_sanitation.rename('sanitation', inplace=True).head()"
   ]
  },
  {
   "cell_type": "code",
   "execution_count": 25,
   "metadata": {},
   "outputs": [
    {
     "name": "stdout",
     "output_type": "stream",
     "text": [
      "The data set for this variable includes 194 countries and there are 0 null values.\n"
     ]
    }
   ],
   "source": [
    "dsummary(df_sanitation)"
   ]
  },
  {
   "cell_type": "code",
   "execution_count": 26,
   "metadata": {},
   "outputs": [
    {
     "data": {
      "text/html": [
       "<div>\n",
       "<style scoped>\n",
       "    .dataframe tbody tr th:only-of-type {\n",
       "        vertical-align: middle;\n",
       "    }\n",
       "\n",
       "    .dataframe tbody tr th {\n",
       "        vertical-align: top;\n",
       "    }\n",
       "\n",
       "    .dataframe thead th {\n",
       "        text-align: right;\n",
       "    }\n",
       "</style>\n",
       "<table border=\"1\" class=\"dataframe\">\n",
       "  <thead>\n",
       "    <tr style=\"text-align: right;\">\n",
       "      <th></th>\n",
       "      <th>fertility_rate</th>\n",
       "      <th>regions</th>\n",
       "      <th>income</th>\n",
       "      <th>life_expect</th>\n",
       "      <th>sanitation</th>\n",
       "    </tr>\n",
       "  </thead>\n",
       "  <tbody>\n",
       "    <tr>\n",
       "      <th>Afghanistan</th>\n",
       "      <td>5.60</td>\n",
       "      <td>south_asia</td>\n",
       "      <td>1630</td>\n",
       "      <td>60.4</td>\n",
       "      <td>0.355</td>\n",
       "    </tr>\n",
       "    <tr>\n",
       "      <th>Albania</th>\n",
       "      <td>1.67</td>\n",
       "      <td>europe_central_asia</td>\n",
       "      <td>10200</td>\n",
       "      <td>77.7</td>\n",
       "      <td>0.962</td>\n",
       "    </tr>\n",
       "    <tr>\n",
       "      <th>Algeria</th>\n",
       "      <td>2.93</td>\n",
       "      <td>middle_east_north_africa</td>\n",
       "      <td>13000</td>\n",
       "      <td>76.5</td>\n",
       "      <td>0.868</td>\n",
       "    </tr>\n",
       "    <tr>\n",
       "      <th>Angola</th>\n",
       "      <td>6.08</td>\n",
       "      <td>sub_saharan_africa</td>\n",
       "      <td>6350</td>\n",
       "      <td>60.6</td>\n",
       "      <td>0.423</td>\n",
       "    </tr>\n",
       "    <tr>\n",
       "      <th>Antigua and Barbuda</th>\n",
       "      <td>2.12</td>\n",
       "      <td>america</td>\n",
       "      <td>20000</td>\n",
       "      <td>76.7</td>\n",
       "      <td>0.867</td>\n",
       "    </tr>\n",
       "  </tbody>\n",
       "</table>\n",
       "</div>"
      ],
      "text/plain": [
       "                     fertility_rate                   regions  income  \\\n",
       "Afghanistan                    5.60                south_asia    1630   \n",
       "Albania                        1.67       europe_central_asia   10200   \n",
       "Algeria                        2.93  middle_east_north_africa   13000   \n",
       "Angola                         6.08        sub_saharan_africa    6350   \n",
       "Antigua and Barbuda            2.12                   america   20000   \n",
       "\n",
       "                     life_expect  sanitation  \n",
       "Afghanistan                 60.4       0.355  \n",
       "Albania                     77.7       0.962  \n",
       "Algeria                     76.5       0.868  \n",
       "Angola                      60.6       0.423  \n",
       "Antigua and Barbuda         76.7       0.867  "
      ]
     },
     "execution_count": 26,
     "metadata": {},
     "output_type": "execute_result"
    }
   ],
   "source": [
    "df_2011 = pd.merge(df_2011, df_sanitation, how='inner', left_index=True, right_index=True)\n",
    "df_2011.head()"
   ]
  },
  {
   "cell_type": "code",
   "execution_count": 27,
   "metadata": {},
   "outputs": [
    {
     "name": "stdout",
     "output_type": "stream",
     "text": [
      "<class 'pandas.core.frame.DataFrame'>\n",
      "Index: 184 entries, Afghanistan to Zimbabwe\n",
      "Data columns (total 5 columns):\n",
      " #   Column          Non-Null Count  Dtype  \n",
      "---  ------          --------------  -----  \n",
      " 0   fertility_rate  184 non-null    float64\n",
      " 1   regions         184 non-null    object \n",
      " 2   income          184 non-null    int64  \n",
      " 3   life_expect     184 non-null    float64\n",
      " 4   sanitation      184 non-null    float64\n",
      "dtypes: float64(3), int64(1), object(1)\n",
      "memory usage: 8.6+ KB\n"
     ]
    }
   ],
   "source": [
    "df_2011.info()"
   ]
  },
  {
   "cell_type": "markdown",
   "metadata": {},
   "source": [
    "#### Female Literacy: Literacy rate, adult female (% of females ages 15 and above)\n",
    "Gapminder description: \"Adult literacy rate is the percentage of people ages 15 and above who can, with understanding, read and write a short, simple statement on their everyday life.\" \n",
    "\n",
    "The data set extends from 1975 to 2011.\n",
    "\n",
    "Gapminder's data source: <http://data.uis.unesco.org/>. Choose 'Education/Literacy/Literacy rate' in the lefthand menu.  Then select the correct data set from the dropdown menu in the table."
   ]
  },
  {
   "cell_type": "code",
   "execution_count": 28,
   "metadata": {},
   "outputs": [
    {
     "data": {
      "text/plain": [
       "country\n",
       "Afghanistan            13.0\n",
       "Albania                95.7\n",
       "Algeria                 NaN\n",
       "Angola                 58.6\n",
       "Antigua and Barbuda    99.4\n",
       "Name: 2011, dtype: float64"
      ]
     },
     "execution_count": 28,
     "metadata": {},
     "output_type": "execute_result"
    }
   ],
   "source": [
    "df_literacy = pd.read_csv('literacy_rate_adult_female_percent_of_females_ages_15_above.csv', index_col = 'country')['2011']\n",
    "df_literacy.head()"
   ]
  },
  {
   "cell_type": "code",
   "execution_count": 29,
   "metadata": {},
   "outputs": [
    {
     "name": "stdout",
     "output_type": "stream",
     "text": [
      "The data set for this variable includes 150 countries and there are 70 null values.\n"
     ]
    }
   ],
   "source": [
    "dsummary(df_literacy)"
   ]
  },
  {
   "cell_type": "markdown",
   "metadata": {},
   "source": [
    "The female literacy variable contains a lot of null values (70) for 2011.  Probably not every country is evaluated, or measured, each year.  Female literacy should not change appreciably over a few years.  So, we will use the mean value over the extant data for the 5-years 2007-2011, thereby wrapping in any data available over that 5 year period."
   ]
  },
  {
   "cell_type": "code",
   "execution_count": 30,
   "metadata": {},
   "outputs": [
    {
     "data": {
      "text/plain": [
       "country\n",
       "Afghanistan            13.0\n",
       "Albania                95.2\n",
       "Algeria                 NaN\n",
       "Angola                 58.6\n",
       "Antigua and Barbuda    99.4\n",
       "Name: f_literacy, dtype: float64"
      ]
     },
     "execution_count": 30,
     "metadata": {},
     "output_type": "execute_result"
    }
   ],
   "source": [
    "df_literacy = pd.read_csv('literacy_rate_adult_female_percent_of_females_ages_15_above.csv', index_col = 'country')[['2007','2008','2009','2010','2011']].mean(axis=1).rename('f_literacy')\n",
    "df_literacy.head()"
   ]
  },
  {
   "cell_type": "code",
   "execution_count": 31,
   "metadata": {},
   "outputs": [
    {
     "name": "stdout",
     "output_type": "stream",
     "text": [
      "The data set for this variable includes 150 countries and there are 16 null values.\n"
     ]
    }
   ],
   "source": [
    "dsummary(df_literacy)"
   ]
  },
  {
   "cell_type": "markdown",
   "metadata": {},
   "source": [
    "We see that we have substantially reduced the number of null values from 70 to 16 by this 5 year averaging approach."
   ]
  },
  {
   "cell_type": "code",
   "execution_count": 32,
   "metadata": {},
   "outputs": [
    {
     "data": {
      "text/html": [
       "<div>\n",
       "<style scoped>\n",
       "    .dataframe tbody tr th:only-of-type {\n",
       "        vertical-align: middle;\n",
       "    }\n",
       "\n",
       "    .dataframe tbody tr th {\n",
       "        vertical-align: top;\n",
       "    }\n",
       "\n",
       "    .dataframe thead th {\n",
       "        text-align: right;\n",
       "    }\n",
       "</style>\n",
       "<table border=\"1\" class=\"dataframe\">\n",
       "  <thead>\n",
       "    <tr style=\"text-align: right;\">\n",
       "      <th></th>\n",
       "      <th>fertility_rate</th>\n",
       "      <th>regions</th>\n",
       "      <th>income</th>\n",
       "      <th>life_expect</th>\n",
       "      <th>sanitation</th>\n",
       "      <th>f_literacy</th>\n",
       "    </tr>\n",
       "  </thead>\n",
       "  <tbody>\n",
       "    <tr>\n",
       "      <th>Afghanistan</th>\n",
       "      <td>5.60</td>\n",
       "      <td>south_asia</td>\n",
       "      <td>1630</td>\n",
       "      <td>60.4</td>\n",
       "      <td>0.355</td>\n",
       "      <td>13.0</td>\n",
       "    </tr>\n",
       "    <tr>\n",
       "      <th>Albania</th>\n",
       "      <td>1.67</td>\n",
       "      <td>europe_central_asia</td>\n",
       "      <td>10200</td>\n",
       "      <td>77.7</td>\n",
       "      <td>0.962</td>\n",
       "      <td>95.2</td>\n",
       "    </tr>\n",
       "    <tr>\n",
       "      <th>Algeria</th>\n",
       "      <td>2.93</td>\n",
       "      <td>middle_east_north_africa</td>\n",
       "      <td>13000</td>\n",
       "      <td>76.5</td>\n",
       "      <td>0.868</td>\n",
       "      <td>NaN</td>\n",
       "    </tr>\n",
       "    <tr>\n",
       "      <th>Angola</th>\n",
       "      <td>6.08</td>\n",
       "      <td>sub_saharan_africa</td>\n",
       "      <td>6350</td>\n",
       "      <td>60.6</td>\n",
       "      <td>0.423</td>\n",
       "      <td>58.6</td>\n",
       "    </tr>\n",
       "    <tr>\n",
       "      <th>Antigua and Barbuda</th>\n",
       "      <td>2.12</td>\n",
       "      <td>america</td>\n",
       "      <td>20000</td>\n",
       "      <td>76.7</td>\n",
       "      <td>0.867</td>\n",
       "      <td>99.4</td>\n",
       "    </tr>\n",
       "  </tbody>\n",
       "</table>\n",
       "</div>"
      ],
      "text/plain": [
       "                     fertility_rate                   regions  income  \\\n",
       "Afghanistan                    5.60                south_asia    1630   \n",
       "Albania                        1.67       europe_central_asia   10200   \n",
       "Algeria                        2.93  middle_east_north_africa   13000   \n",
       "Angola                         6.08        sub_saharan_africa    6350   \n",
       "Antigua and Barbuda            2.12                   america   20000   \n",
       "\n",
       "                     life_expect  sanitation  f_literacy  \n",
       "Afghanistan                 60.4       0.355        13.0  \n",
       "Albania                     77.7       0.962        95.2  \n",
       "Algeria                     76.5       0.868         NaN  \n",
       "Angola                      60.6       0.423        58.6  \n",
       "Antigua and Barbuda         76.7       0.867        99.4  "
      ]
     },
     "execution_count": 32,
     "metadata": {},
     "output_type": "execute_result"
    }
   ],
   "source": [
    "df_2011 = pd.merge(df_2011, df_literacy, how='left', left_index=True, right_index=True)\n",
    "df_2011.head()"
   ]
  },
  {
   "cell_type": "code",
   "execution_count": 33,
   "metadata": {},
   "outputs": [
    {
     "name": "stdout",
     "output_type": "stream",
     "text": [
      "<class 'pandas.core.frame.DataFrame'>\n",
      "Index: 184 entries, Afghanistan to Zimbabwe\n",
      "Data columns (total 6 columns):\n",
      " #   Column          Non-Null Count  Dtype  \n",
      "---  ------          --------------  -----  \n",
      " 0   fertility_rate  184 non-null    float64\n",
      " 1   regions         184 non-null    object \n",
      " 2   income          184 non-null    int64  \n",
      " 3   life_expect     184 non-null    float64\n",
      " 4   sanitation      184 non-null    float64\n",
      " 5   f_literacy      134 non-null    float64\n",
      "dtypes: float64(4), int64(1), object(1)\n",
      "memory usage: 15.1+ KB\n"
     ]
    }
   ],
   "source": [
    "df_2011.info()"
   ]
  },
  {
   "cell_type": "markdown",
   "metadata": {},
   "source": [
    "#### Female Employment: Labour force participation rate (%), females aged 15+\n",
    "Gapminder description: \"For age group 15+, percentage of female labour to total female population.\"\n",
    "\n",
    "The data set extends from 1990 to 2030.\n",
    "\n",
    "Gapminder's data source: <https://ilostat.ilo.org/data/>"
   ]
  },
  {
   "cell_type": "code",
   "execution_count": 34,
   "metadata": {},
   "outputs": [
    {
     "data": {
      "text/plain": [
       "country\n",
       "Afghanistan    0.153\n",
       "Albania        0.471\n",
       "Algeria        0.152\n",
       "Angola         0.753\n",
       "Argentina      0.481\n",
       "Name: f_employment, dtype: float64"
      ]
     },
     "execution_count": 34,
     "metadata": {},
     "output_type": "execute_result"
    }
   ],
   "source": [
    "df_employment = pd.read_csv('females_aged_15plus_labour_force_participation_rate_percent.csv', index_col='country')['2011']\n",
    "df_employment.rename('f_employment', inplace=True).head()"
   ]
  },
  {
   "cell_type": "code",
   "execution_count": 35,
   "metadata": {},
   "outputs": [
    {
     "name": "stdout",
     "output_type": "stream",
     "text": [
      "The data set for this variable includes 179 countries and there are 0 null values.\n"
     ]
    }
   ],
   "source": [
    "dsummary(df_employment)"
   ]
  },
  {
   "cell_type": "code",
   "execution_count": 36,
   "metadata": {},
   "outputs": [
    {
     "data": {
      "text/html": [
       "<div>\n",
       "<style scoped>\n",
       "    .dataframe tbody tr th:only-of-type {\n",
       "        vertical-align: middle;\n",
       "    }\n",
       "\n",
       "    .dataframe tbody tr th {\n",
       "        vertical-align: top;\n",
       "    }\n",
       "\n",
       "    .dataframe thead th {\n",
       "        text-align: right;\n",
       "    }\n",
       "</style>\n",
       "<table border=\"1\" class=\"dataframe\">\n",
       "  <thead>\n",
       "    <tr style=\"text-align: right;\">\n",
       "      <th></th>\n",
       "      <th>fertility_rate</th>\n",
       "      <th>regions</th>\n",
       "      <th>income</th>\n",
       "      <th>life_expect</th>\n",
       "      <th>sanitation</th>\n",
       "      <th>f_literacy</th>\n",
       "      <th>f_employment</th>\n",
       "    </tr>\n",
       "  </thead>\n",
       "  <tbody>\n",
       "    <tr>\n",
       "      <th>Afghanistan</th>\n",
       "      <td>5.60</td>\n",
       "      <td>south_asia</td>\n",
       "      <td>1630</td>\n",
       "      <td>60.4</td>\n",
       "      <td>0.355</td>\n",
       "      <td>13.0</td>\n",
       "      <td>0.153</td>\n",
       "    </tr>\n",
       "    <tr>\n",
       "      <th>Albania</th>\n",
       "      <td>1.67</td>\n",
       "      <td>europe_central_asia</td>\n",
       "      <td>10200</td>\n",
       "      <td>77.7</td>\n",
       "      <td>0.962</td>\n",
       "      <td>95.2</td>\n",
       "      <td>0.471</td>\n",
       "    </tr>\n",
       "    <tr>\n",
       "      <th>Algeria</th>\n",
       "      <td>2.93</td>\n",
       "      <td>middle_east_north_africa</td>\n",
       "      <td>13000</td>\n",
       "      <td>76.5</td>\n",
       "      <td>0.868</td>\n",
       "      <td>NaN</td>\n",
       "      <td>0.152</td>\n",
       "    </tr>\n",
       "    <tr>\n",
       "      <th>Angola</th>\n",
       "      <td>6.08</td>\n",
       "      <td>sub_saharan_africa</td>\n",
       "      <td>6350</td>\n",
       "      <td>60.6</td>\n",
       "      <td>0.423</td>\n",
       "      <td>58.6</td>\n",
       "      <td>0.753</td>\n",
       "    </tr>\n",
       "    <tr>\n",
       "      <th>Antigua and Barbuda</th>\n",
       "      <td>2.12</td>\n",
       "      <td>america</td>\n",
       "      <td>20000</td>\n",
       "      <td>76.7</td>\n",
       "      <td>0.867</td>\n",
       "      <td>99.4</td>\n",
       "      <td>NaN</td>\n",
       "    </tr>\n",
       "  </tbody>\n",
       "</table>\n",
       "</div>"
      ],
      "text/plain": [
       "                     fertility_rate                   regions  income  \\\n",
       "Afghanistan                    5.60                south_asia    1630   \n",
       "Albania                        1.67       europe_central_asia   10200   \n",
       "Algeria                        2.93  middle_east_north_africa   13000   \n",
       "Angola                         6.08        sub_saharan_africa    6350   \n",
       "Antigua and Barbuda            2.12                   america   20000   \n",
       "\n",
       "                     life_expect  sanitation  f_literacy  f_employment  \n",
       "Afghanistan                 60.4       0.355        13.0         0.153  \n",
       "Albania                     77.7       0.962        95.2         0.471  \n",
       "Algeria                     76.5       0.868         NaN         0.152  \n",
       "Angola                      60.6       0.423        58.6         0.753  \n",
       "Antigua and Barbuda         76.7       0.867        99.4           NaN  "
      ]
     },
     "execution_count": 36,
     "metadata": {},
     "output_type": "execute_result"
    }
   ],
   "source": [
    "df_2011 = pd.merge(df_2011, df_employment, how='left', left_index=True, right_index=True)\n",
    "df_2011.head()"
   ]
  },
  {
   "cell_type": "code",
   "execution_count": 37,
   "metadata": {},
   "outputs": [
    {
     "name": "stdout",
     "output_type": "stream",
     "text": [
      "<class 'pandas.core.frame.DataFrame'>\n",
      "Index: 184 entries, Afghanistan to Zimbabwe\n",
      "Data columns (total 7 columns):\n",
      " #   Column          Non-Null Count  Dtype  \n",
      "---  ------          --------------  -----  \n",
      " 0   fertility_rate  184 non-null    float64\n",
      " 1   regions         184 non-null    object \n",
      " 2   income          184 non-null    int64  \n",
      " 3   life_expect     184 non-null    float64\n",
      " 4   sanitation      184 non-null    float64\n",
      " 5   f_literacy      134 non-null    float64\n",
      " 6   f_employment    179 non-null    float64\n",
      "dtypes: float64(5), int64(1), object(1)\n",
      "memory usage: 16.5+ KB\n"
     ]
    }
   ],
   "source": [
    "df_2011.info()"
   ]
  },
  {
   "cell_type": "markdown",
   "metadata": {},
   "source": [
    "#### Contraceptive Use (% of women ages 15 to 49)\n",
    "Gapminder description: \"Contraceptive prevalence rate is the percentage of women who are practicing, or whose sexual partners are practicing, any form of contraception.  It is usually measured for women ages 15-49 who are married or in a union.\"\n",
    "\n",
    "The data set extends from 1961 to 2018.\n",
    "\n",
    "Gapminder's data source: <https://data.worldbank.org/indicator/SP.DYN.CONU.ZS>"
   ]
  },
  {
   "cell_type": "code",
   "execution_count": 38,
   "metadata": {},
   "outputs": [
    {
     "data": {
      "text/plain": [
       "country\n",
       "Afghanistan            0.212\n",
       "Albania                  NaN\n",
       "Algeria                  NaN\n",
       "Angola                   NaN\n",
       "Antigua and Barbuda      NaN\n",
       "Name: contraception, dtype: float64"
      ]
     },
     "execution_count": 38,
     "metadata": {},
     "output_type": "execute_result"
    }
   ],
   "source": [
    "df_contraception = pd.read_csv('contraceptive_use_percent_of_women_ages_15_49.csv', index_col='country')['2011']\n",
    "df_contraception.rename('contraception', inplace=True).head()"
   ]
  },
  {
   "cell_type": "code",
   "execution_count": 39,
   "metadata": {},
   "outputs": [
    {
     "name": "stdout",
     "output_type": "stream",
     "text": [
      "The data set for this variable includes 185 countries and there are 153 null values.\n"
     ]
    }
   ],
   "source": [
    "dsummary(df_contraception)"
   ]
  },
  {
   "cell_type": "markdown",
   "metadata": {},
   "source": [
    "There are a lot of null values in this data -- 153 for the year 2011.  We will use the same strategy as we did with female literacy in order to reduce this number.  That is, we will use the mean value over the extant data for the 5-years 2007-2011, thereby wrapping in the available data over that 5 year period.  This seems justified since contraceptive use is unlikely to change appreciably over a five year period and the data gaps probably result from spotty reporting/measuring in countries."
   ]
  },
  {
   "cell_type": "code",
   "execution_count": 40,
   "metadata": {},
   "outputs": [
    {
     "data": {
      "text/plain": [
       "country\n",
       "Afghanistan            0.219333\n",
       "Albania                0.693000\n",
       "Algeria                     NaN\n",
       "Angola                 0.177000\n",
       "Antigua and Barbuda         NaN\n",
       "Name: contraception, dtype: float64"
      ]
     },
     "execution_count": 40,
     "metadata": {},
     "output_type": "execute_result"
    }
   ],
   "source": [
    "df_contraception = pd.read_csv('contraceptive_use_percent_of_women_ages_15_49.csv', index_col='country')[['2007', '2008', '2009', '2010', '2011']].mean(axis=1).rename('contraception')\n",
    "df_contraception.head()"
   ]
  },
  {
   "cell_type": "code",
   "execution_count": 41,
   "metadata": {},
   "outputs": [
    {
     "name": "stdout",
     "output_type": "stream",
     "text": [
      "The data set for this variable includes 185 countries and there are 61 null values.\n"
     ]
    }
   ],
   "source": [
    "dsummary(df_contraception)"
   ]
  },
  {
   "cell_type": "markdown",
   "metadata": {},
   "source": [
    "There are still 61 null values, but this is a lot less than the 153 encountered originally.  Overall, there are 185 - 61 = 124 non-null values, which is large enough for showing trends."
   ]
  },
  {
   "cell_type": "code",
   "execution_count": 42,
   "metadata": {},
   "outputs": [
    {
     "data": {
      "text/html": [
       "<div>\n",
       "<style scoped>\n",
       "    .dataframe tbody tr th:only-of-type {\n",
       "        vertical-align: middle;\n",
       "    }\n",
       "\n",
       "    .dataframe tbody tr th {\n",
       "        vertical-align: top;\n",
       "    }\n",
       "\n",
       "    .dataframe thead th {\n",
       "        text-align: right;\n",
       "    }\n",
       "</style>\n",
       "<table border=\"1\" class=\"dataframe\">\n",
       "  <thead>\n",
       "    <tr style=\"text-align: right;\">\n",
       "      <th></th>\n",
       "      <th>fertility_rate</th>\n",
       "      <th>regions</th>\n",
       "      <th>income</th>\n",
       "      <th>life_expect</th>\n",
       "      <th>sanitation</th>\n",
       "      <th>f_literacy</th>\n",
       "      <th>f_employment</th>\n",
       "      <th>contraception</th>\n",
       "    </tr>\n",
       "  </thead>\n",
       "  <tbody>\n",
       "    <tr>\n",
       "      <th>Afghanistan</th>\n",
       "      <td>5.60</td>\n",
       "      <td>south_asia</td>\n",
       "      <td>1630</td>\n",
       "      <td>60.4</td>\n",
       "      <td>0.355</td>\n",
       "      <td>13.0</td>\n",
       "      <td>0.153</td>\n",
       "      <td>0.219333</td>\n",
       "    </tr>\n",
       "    <tr>\n",
       "      <th>Albania</th>\n",
       "      <td>1.67</td>\n",
       "      <td>europe_central_asia</td>\n",
       "      <td>10200</td>\n",
       "      <td>77.7</td>\n",
       "      <td>0.962</td>\n",
       "      <td>95.2</td>\n",
       "      <td>0.471</td>\n",
       "      <td>0.693000</td>\n",
       "    </tr>\n",
       "    <tr>\n",
       "      <th>Algeria</th>\n",
       "      <td>2.93</td>\n",
       "      <td>middle_east_north_africa</td>\n",
       "      <td>13000</td>\n",
       "      <td>76.5</td>\n",
       "      <td>0.868</td>\n",
       "      <td>NaN</td>\n",
       "      <td>0.152</td>\n",
       "      <td>NaN</td>\n",
       "    </tr>\n",
       "    <tr>\n",
       "      <th>Angola</th>\n",
       "      <td>6.08</td>\n",
       "      <td>sub_saharan_africa</td>\n",
       "      <td>6350</td>\n",
       "      <td>60.6</td>\n",
       "      <td>0.423</td>\n",
       "      <td>58.6</td>\n",
       "      <td>0.753</td>\n",
       "      <td>0.177000</td>\n",
       "    </tr>\n",
       "    <tr>\n",
       "      <th>Antigua and Barbuda</th>\n",
       "      <td>2.12</td>\n",
       "      <td>america</td>\n",
       "      <td>20000</td>\n",
       "      <td>76.7</td>\n",
       "      <td>0.867</td>\n",
       "      <td>99.4</td>\n",
       "      <td>NaN</td>\n",
       "      <td>NaN</td>\n",
       "    </tr>\n",
       "  </tbody>\n",
       "</table>\n",
       "</div>"
      ],
      "text/plain": [
       "                     fertility_rate                   regions  income  \\\n",
       "Afghanistan                    5.60                south_asia    1630   \n",
       "Albania                        1.67       europe_central_asia   10200   \n",
       "Algeria                        2.93  middle_east_north_africa   13000   \n",
       "Angola                         6.08        sub_saharan_africa    6350   \n",
       "Antigua and Barbuda            2.12                   america   20000   \n",
       "\n",
       "                     life_expect  sanitation  f_literacy  f_employment  \\\n",
       "Afghanistan                 60.4       0.355        13.0         0.153   \n",
       "Albania                     77.7       0.962        95.2         0.471   \n",
       "Algeria                     76.5       0.868         NaN         0.152   \n",
       "Angola                      60.6       0.423        58.6         0.753   \n",
       "Antigua and Barbuda         76.7       0.867        99.4           NaN   \n",
       "\n",
       "                     contraception  \n",
       "Afghanistan               0.219333  \n",
       "Albania                   0.693000  \n",
       "Algeria                        NaN  \n",
       "Angola                    0.177000  \n",
       "Antigua and Barbuda            NaN  "
      ]
     },
     "execution_count": 42,
     "metadata": {},
     "output_type": "execute_result"
    }
   ],
   "source": [
    "df_2011 = pd.merge(df_2011, df_contraception, how='left', left_index=True, right_index=True)\n",
    "df_2011.head()"
   ]
  },
  {
   "cell_type": "code",
   "execution_count": 43,
   "metadata": {},
   "outputs": [
    {
     "name": "stdout",
     "output_type": "stream",
     "text": [
      "<class 'pandas.core.frame.DataFrame'>\n",
      "Index: 184 entries, Afghanistan to Zimbabwe\n",
      "Data columns (total 8 columns):\n",
      " #   Column          Non-Null Count  Dtype  \n",
      "---  ------          --------------  -----  \n",
      " 0   fertility_rate  184 non-null    float64\n",
      " 1   regions         184 non-null    object \n",
      " 2   income          184 non-null    int64  \n",
      " 3   life_expect     184 non-null    float64\n",
      " 4   sanitation      184 non-null    float64\n",
      " 5   f_literacy      134 non-null    float64\n",
      " 6   f_employment    179 non-null    float64\n",
      " 7   contraception   119 non-null    float64\n",
      "dtypes: float64(6), int64(1), object(1)\n",
      "memory usage: 17.9+ KB\n"
     ]
    }
   ],
   "source": [
    "df_2011.info()"
   ]
  },
  {
   "cell_type": "markdown",
   "metadata": {},
   "source": [
    "<a id='eda'></a>\n",
    "## Exploratory Data Analysis"
   ]
  },
  {
   "cell_type": "markdown",
   "metadata": {},
   "source": [
    "### Question 1: How have fertility rates across countries of the world changed over time?"
   ]
  },
  {
   "cell_type": "markdown",
   "metadata": {},
   "source": [
    "First, let's look at how fertility rates have changed over time.  To do this, we look at boxplots at 10-year time intervals -- so, from 1801 to 2011 in 10-year increments."
   ]
  },
  {
   "cell_type": "code",
   "execution_count": 44,
   "metadata": {},
   "outputs": [
    {
     "data": {
      "text/html": [
       "<div>\n",
       "<style scoped>\n",
       "    .dataframe tbody tr th:only-of-type {\n",
       "        vertical-align: middle;\n",
       "    }\n",
       "\n",
       "    .dataframe tbody tr th {\n",
       "        vertical-align: top;\n",
       "    }\n",
       "\n",
       "    .dataframe thead th {\n",
       "        text-align: right;\n",
       "    }\n",
       "</style>\n",
       "<table border=\"1\" class=\"dataframe\">\n",
       "  <thead>\n",
       "    <tr style=\"text-align: right;\">\n",
       "      <th></th>\n",
       "      <th>1801</th>\n",
       "      <th>1811</th>\n",
       "      <th>1821</th>\n",
       "      <th>1831</th>\n",
       "      <th>1841</th>\n",
       "      <th>1851</th>\n",
       "      <th>1861</th>\n",
       "      <th>1871</th>\n",
       "      <th>1881</th>\n",
       "      <th>1891</th>\n",
       "      <th>...</th>\n",
       "      <th>1921</th>\n",
       "      <th>1931</th>\n",
       "      <th>1941</th>\n",
       "      <th>1951</th>\n",
       "      <th>1961</th>\n",
       "      <th>1971</th>\n",
       "      <th>1981</th>\n",
       "      <th>1991</th>\n",
       "      <th>2001</th>\n",
       "      <th>2011</th>\n",
       "    </tr>\n",
       "  </thead>\n",
       "  <tbody>\n",
       "    <tr>\n",
       "      <th>Afghanistan</th>\n",
       "      <td>7.00</td>\n",
       "      <td>7.00</td>\n",
       "      <td>7.00</td>\n",
       "      <td>7.00</td>\n",
       "      <td>7.00</td>\n",
       "      <td>7.00</td>\n",
       "      <td>7.00</td>\n",
       "      <td>7.00</td>\n",
       "      <td>7.00</td>\n",
       "      <td>7.00</td>\n",
       "      <td>...</td>\n",
       "      <td>7.00</td>\n",
       "      <td>7.16</td>\n",
       "      <td>7.40</td>\n",
       "      <td>7.56</td>\n",
       "      <td>7.45</td>\n",
       "      <td>7.45</td>\n",
       "      <td>7.45</td>\n",
       "      <td>7.48</td>\n",
       "      <td>7.39</td>\n",
       "      <td>5.60</td>\n",
       "    </tr>\n",
       "    <tr>\n",
       "      <th>Albania</th>\n",
       "      <td>4.60</td>\n",
       "      <td>4.60</td>\n",
       "      <td>4.60</td>\n",
       "      <td>4.60</td>\n",
       "      <td>4.60</td>\n",
       "      <td>4.60</td>\n",
       "      <td>4.60</td>\n",
       "      <td>4.60</td>\n",
       "      <td>4.60</td>\n",
       "      <td>4.60</td>\n",
       "      <td>...</td>\n",
       "      <td>4.60</td>\n",
       "      <td>3.54</td>\n",
       "      <td>3.77</td>\n",
       "      <td>5.97</td>\n",
       "      <td>6.40</td>\n",
       "      <td>4.78</td>\n",
       "      <td>3.53</td>\n",
       "      <td>2.91</td>\n",
       "      <td>2.07</td>\n",
       "      <td>1.67</td>\n",
       "    </tr>\n",
       "    <tr>\n",
       "      <th>Algeria</th>\n",
       "      <td>6.99</td>\n",
       "      <td>6.99</td>\n",
       "      <td>6.99</td>\n",
       "      <td>6.99</td>\n",
       "      <td>6.99</td>\n",
       "      <td>6.99</td>\n",
       "      <td>6.99</td>\n",
       "      <td>6.99</td>\n",
       "      <td>6.99</td>\n",
       "      <td>6.99</td>\n",
       "      <td>...</td>\n",
       "      <td>6.99</td>\n",
       "      <td>7.15</td>\n",
       "      <td>7.37</td>\n",
       "      <td>7.47</td>\n",
       "      <td>7.57</td>\n",
       "      <td>7.62</td>\n",
       "      <td>6.62</td>\n",
       "      <td>4.48</td>\n",
       "      <td>2.44</td>\n",
       "      <td>2.93</td>\n",
       "    </tr>\n",
       "    <tr>\n",
       "      <th>Angola</th>\n",
       "      <td>6.93</td>\n",
       "      <td>6.94</td>\n",
       "      <td>6.95</td>\n",
       "      <td>6.95</td>\n",
       "      <td>6.96</td>\n",
       "      <td>6.97</td>\n",
       "      <td>6.97</td>\n",
       "      <td>6.98</td>\n",
       "      <td>6.99</td>\n",
       "      <td>7.00</td>\n",
       "      <td>...</td>\n",
       "      <td>7.02</td>\n",
       "      <td>7.00</td>\n",
       "      <td>7.02</td>\n",
       "      <td>7.13</td>\n",
       "      <td>7.52</td>\n",
       "      <td>7.60</td>\n",
       "      <td>7.47</td>\n",
       "      <td>7.19</td>\n",
       "      <td>6.60</td>\n",
       "      <td>6.08</td>\n",
       "    </tr>\n",
       "    <tr>\n",
       "      <th>Antigua and Barbuda</th>\n",
       "      <td>5.00</td>\n",
       "      <td>4.96</td>\n",
       "      <td>4.92</td>\n",
       "      <td>4.89</td>\n",
       "      <td>4.85</td>\n",
       "      <td>4.81</td>\n",
       "      <td>4.77</td>\n",
       "      <td>4.74</td>\n",
       "      <td>4.70</td>\n",
       "      <td>4.66</td>\n",
       "      <td>...</td>\n",
       "      <td>4.55</td>\n",
       "      <td>4.52</td>\n",
       "      <td>4.48</td>\n",
       "      <td>4.46</td>\n",
       "      <td>4.39</td>\n",
       "      <td>3.52</td>\n",
       "      <td>2.10</td>\n",
       "      <td>2.07</td>\n",
       "      <td>2.31</td>\n",
       "      <td>2.12</td>\n",
       "    </tr>\n",
       "  </tbody>\n",
       "</table>\n",
       "<p>5 rows × 22 columns</p>\n",
       "</div>"
      ],
      "text/plain": [
       "                     1801  1811  1821  1831  1841  1851  1861  1871  1881  \\\n",
       "Afghanistan          7.00  7.00  7.00  7.00  7.00  7.00  7.00  7.00  7.00   \n",
       "Albania              4.60  4.60  4.60  4.60  4.60  4.60  4.60  4.60  4.60   \n",
       "Algeria              6.99  6.99  6.99  6.99  6.99  6.99  6.99  6.99  6.99   \n",
       "Angola               6.93  6.94  6.95  6.95  6.96  6.97  6.97  6.98  6.99   \n",
       "Antigua and Barbuda  5.00  4.96  4.92  4.89  4.85  4.81  4.77  4.74  4.70   \n",
       "\n",
       "                     1891  ...  1921  1931  1941  1951  1961  1971  1981  \\\n",
       "Afghanistan          7.00  ...  7.00  7.16  7.40  7.56  7.45  7.45  7.45   \n",
       "Albania              4.60  ...  4.60  3.54  3.77  5.97  6.40  4.78  3.53   \n",
       "Algeria              6.99  ...  6.99  7.15  7.37  7.47  7.57  7.62  6.62   \n",
       "Angola               7.00  ...  7.02  7.00  7.02  7.13  7.52  7.60  7.47   \n",
       "Antigua and Barbuda  4.66  ...  4.55  4.52  4.48  4.46  4.39  3.52  2.10   \n",
       "\n",
       "                     1991  2001  2011  \n",
       "Afghanistan          7.48  7.39  5.60  \n",
       "Albania              2.91  2.07  1.67  \n",
       "Algeria              4.48  2.44  2.93  \n",
       "Angola               7.19  6.60  6.08  \n",
       "Antigua and Barbuda  2.07  2.31  2.12  \n",
       "\n",
       "[5 rows x 22 columns]"
      ]
     },
     "execution_count": 44,
     "metadata": {},
     "output_type": "execute_result"
    }
   ],
   "source": [
    "df_fertility_filtered = df_fertility_to2014.filter(regex='[1]$')\n",
    "df_fertility_filtered.head()"
   ]
  },
  {
   "cell_type": "code",
   "execution_count": 45,
   "metadata": {},
   "outputs": [
    {
     "data": {
      "image/png": "[encoded data removed]",
      "text/plain": [
       "<Figure size 864x504 with 1 Axes>"
      ]
     },
     "metadata": {
      "needs_background": "light"
     },
     "output_type": "display_data"
    }
   ],
   "source": [
    "df_fertility_filtered.plot(kind='box', figsize = (12,7))\n",
    "plt.xlabel('Year', fontsize=14)\n",
    "plt.ylabel('Fertility Rate (Babies per Woman)', fontsize=14)\n",
    "plt.title('Fertility Rates per Decade across Countries of the World', fontsize=18);"
   ]
  },
  {
   "cell_type": "markdown",
   "metadata": {},
   "source": [
    "What do we see here?\n",
    "\n",
    "* Median fertility rates in the past, as illustrated throughout the 19th century, were roughly about 6 children per woman with variation from about 4 to 8.\n",
    "\n",
    "* Around the turn of the 20th century, there are some countries that begin to have decreasing fertility rates, thereby stretching out the boxplot.  Overall, a longer boxplot corresponds to a greater degree of variation across countries of the world.  This is the pattern in the 20th century.\n",
    "\n",
    "* Around 1961, there is a slight \"uptick\" in fertility rates.  Then there is a marked decrease so that by 2011 the median among countries is between 2 and 3."
   ]
  },
  {
   "cell_type": "markdown",
   "metadata": {},
   "source": [
    "### Question 2: How have fertility rates been distributed across regions of the world recently (2011)?"
   ]
  },
  {
   "cell_type": "markdown",
   "metadata": {},
   "source": [
    "First, let us look at a histogram to show the distribution of fertility rates (babies per woman) across countries of the world."
   ]
  },
  {
   "cell_type": "code",
   "execution_count": 46,
   "metadata": {},
   "outputs": [
    {
     "data": {
      "image/png": "[encoded data removed]",
      "text/plain": [
       "<Figure size 432x288 with 1 Axes>"
      ]
     },
     "metadata": {
      "needs_background": "light"
     },
     "output_type": "display_data"
    }
   ],
   "source": [
    "df_2011.fertility_rate.hist()\n",
    "plt.xlabel('Fertility Rate (Babies per Woman)', fontsize=14)\n",
    "plt.ylabel('Count of Countries', fontsize=14)\n",
    "plt.title('Histogram of Fertility Rates \\nacross Countries (2011)', fontsize=18);"
   ]
  },
  {
   "cell_type": "markdown",
   "metadata": {},
   "source": [
    "The majority of countries have fertility rates below 4.  There appears to be a second peak around 5.\n",
    "\n",
    "Using both a table and a bar chart, we can examine regions of the world looking at averages of fertility rates across the countries in those regions."
   ]
  },
  {
   "cell_type": "code",
   "execution_count": 47,
   "metadata": {},
   "outputs": [
    {
     "data": {
      "text/plain": [
       "regions\n",
       "america                     2.280606\n",
       "east_asia_pacific           2.735385\n",
       "europe_central_asia         1.737347\n",
       "middle_east_north_africa    2.856500\n",
       "south_asia                  2.920000\n",
       "sub_saharan_africa          4.855417\n",
       "Name: fertility_rate, dtype: float64"
      ]
     },
     "execution_count": 47,
     "metadata": {},
     "output_type": "execute_result"
    }
   ],
   "source": [
    "df_regions = df_2011.groupby(by='regions').mean()['fertility_rate']\n",
    "df_regions"
   ]
  },
  {
   "cell_type": "code",
   "execution_count": 48,
   "metadata": {},
   "outputs": [
    {
     "data": {
      "image/png": "[encoded data removed]",
      "text/plain": [
       "<Figure size 432x288 with 1 Axes>"
      ]
     },
     "metadata": {
      "needs_background": "light"
     },
     "output_type": "display_data"
    }
   ],
   "source": [
    "df_regions.plot(kind=\"bar\")\n",
    "plt.xlabel('World Regions', fontsize=14)\n",
    "plt.ylabel('Fertility Rate\\n (Averaged across Region)', fontsize=14)\n",
    "plt.title('Average Fertility Rates\\n (across Countries per Region)', fontsize=18)\n",
    "x = [0, 1, 2, 3, 4, 5]\n",
    "names = ['America', 'East Asia &\\n Pacific', 'Europe &\\n Central Asia', 'Middle East &\\n North Africa', 'South Asia', 'Sub-Saharan\\n Africa']\n",
    "plt.xticks(ticks=x, labels=names);"
   ]
  },
  {
   "cell_type": "markdown",
   "metadata": {},
   "source": [
    "The region with the highest fertility rates (babies per woman) is Sub-Saharan Africa, with a mean across the region of nearly 5.\n",
    "\n",
    "To see the distribution among countries in the various regions we can use boxplots."
   ]
  },
  {
   "cell_type": "code",
   "execution_count": 49,
   "metadata": {},
   "outputs": [
    {
     "data": {
      "image/png": "[encoded data removed]",
      "text/plain": [
       "<Figure size 864x504 with 1 Axes>"
      ]
     },
     "metadata": {
      "needs_background": "light"
     },
     "output_type": "display_data"
    }
   ],
   "source": [
    "df_2011[['fertility_rate', 'regions']].boxplot(by='regions', figsize=(12,7))\n",
    "plt.xlabel('World Regions', fontsize=14)\n",
    "plt.ylabel('Fertility Rate', fontsize=14)\n",
    "plt.title('Fertility Rates across Countries per Region', fontsize=18)\n",
    "x = [1, 2, 3, 4, 5, 6]\n",
    "names = ['America', 'East Asia &\\n Pacific', 'Europe &\\n Central Asia', 'Middle East &\\n North Africa', 'South Asia', 'Sub-Saharan\\n Africa']\n",
    "plt.xticks(ticks=x, labels=names, rotation='vertical');"
   ]
  },
  {
   "cell_type": "markdown",
   "metadata": {},
   "source": [
    "### Question 3: Are fertility rates (2011) correlated with other factors -- in particular, income, life expectancy, sanitation, female literacy, female employment, and contraceptive use?  And, if so, how -- positively or negatively?"
   ]
  },
  {
   "cell_type": "markdown",
   "metadata": {},
   "source": [
    "#### Fertility rate vs income"
   ]
  },
  {
   "cell_type": "code",
   "execution_count": 50,
   "metadata": {},
   "outputs": [
    {
     "data": {
      "image/png": "[encoded data removed]",
      "text/plain": [
       "<Figure size 432x288 with 1 Axes>"
      ]
     },
     "metadata": {
      "needs_background": "light"
     },
     "output_type": "display_data"
    }
   ],
   "source": [
    "df_2011.plot(x='income', y='fertility_rate', kind='scatter', logx=True)\n",
    "plt.axis([500,200000,0,8])\n",
    "plt.xlabel('Income, GDP per Capita (Log Scale)', fontsize=14)\n",
    "plt.ylabel('Fertility Rate\\n (Babies per Woman)', fontsize=14)\n",
    "plt.title('Fertility Rate versus Income\\n across Countries', fontsize=18);"
   ]
  },
  {
   "cell_type": "markdown",
   "metadata": {},
   "source": [
    "Income (GDP per capita, adjusted for inflation and cost of living) was plotted on a logarithmic scale to better see the spread of the data points.  Clearly, there is a negative correlation between fertility rate and income.  Lower income per country corresponds with a higher fertility rate.  As income increases, fertility rates appear to hit a floor where higher incomes seem to make little difference."
   ]
  },
  {
   "cell_type": "markdown",
   "metadata": {},
   "source": [
    "#### Fertility rate vs life expectancy"
   ]
  },
  {
   "cell_type": "code",
   "execution_count": 51,
   "metadata": {},
   "outputs": [
    {
     "data": {
      "image/png": "[encoded data removed]",
      "text/plain": [
       "<Figure size 432x288 with 1 Axes>"
      ]
     },
     "metadata": {
      "needs_background": "light"
     },
     "output_type": "display_data"
    }
   ],
   "source": [
    "df_2011.plot(x='life_expect', y='fertility_rate', kind='scatter')\n",
    "plt.xlabel('Life Expectancy (in Years)', fontsize=14)\n",
    "plt.ylabel('Fertility Rate\\n (Babies per Woman)', fontsize=14)\n",
    "plt.title('Fertility Rate versus Life Expectancy\\n across Countries', fontsize=18);"
   ]
  },
  {
   "cell_type": "markdown",
   "metadata": {},
   "source": [
    "There is clearly a negative correlation between fertility rate and life expectancy (in years).  Countries with higher life expectancies have lower fertility rates."
   ]
  },
  {
   "cell_type": "markdown",
   "metadata": {},
   "source": [
    "#### Fertility rate vs sanitation"
   ]
  },
  {
   "cell_type": "code",
   "execution_count": 52,
   "metadata": {},
   "outputs": [
    {
     "data": {
      "image/png": "[encoded data removed]",
      "text/plain": [
       "<Figure size 432x288 with 1 Axes>"
      ]
     },
     "metadata": {
      "needs_background": "light"
     },
     "output_type": "display_data"
    }
   ],
   "source": [
    "df_2011.plot(x='sanitation', y='fertility_rate', kind='scatter')\n",
    "plt.xlabel('Sanitation\\n (Fraction using at least basic services)', fontsize=14)\n",
    "plt.ylabel('Fertility Rate\\n (Babies per Woman)', fontsize=14)\n",
    "plt.title('Fertility Rate versus Sanitation\\n across Countries', fontsize=18);"
   ]
  },
  {
   "cell_type": "markdown",
   "metadata": {},
   "source": [
    "Sanitation is clearly negatively correlated with fertility rate."
   ]
  },
  {
   "cell_type": "markdown",
   "metadata": {},
   "source": [
    "#### Fertility rate vs female literacy"
   ]
  },
  {
   "cell_type": "code",
   "execution_count": 53,
   "metadata": {},
   "outputs": [
    {
     "data": {
      "image/png": "[encoded data removed]",
      "text/plain": [
       "<Figure size 432x288 with 1 Axes>"
      ]
     },
     "metadata": {
      "needs_background": "light"
     },
     "output_type": "display_data"
    }
   ],
   "source": [
    "df_2011.plot(x='f_literacy', y='fertility_rate', kind='scatter')\n",
    "plt.xlabel('Female Literacy (%)', fontsize=14)\n",
    "plt.ylabel('Fertility Rate\\n (Babies per Woman)', fontsize=14)\n",
    "plt.title('Fertility Rate versus Female Literacy\\n across Countries', fontsize=18);"
   ]
  },
  {
   "cell_type": "markdown",
   "metadata": {},
   "source": [
    "There is a negative correlation between fertility rate and female literacy, a variable connected with female education."
   ]
  },
  {
   "cell_type": "markdown",
   "metadata": {},
   "source": [
    "#### Fertility rate vs female employment"
   ]
  },
  {
   "cell_type": "code",
   "execution_count": 54,
   "metadata": {},
   "outputs": [
    {
     "data": {
      "image/png": "[encoded data removed]",
      "text/plain": [
       "<Figure size 432x288 with 1 Axes>"
      ]
     },
     "metadata": {
      "needs_background": "light"
     },
     "output_type": "display_data"
    }
   ],
   "source": [
    "df_2011.plot(x='f_employment', y='fertility_rate', kind='scatter')\n",
    "plt.xlabel('Female Employment\\n (fractional participation in labor force)', fontsize=14)\n",
    "plt.ylabel('Fertility Rate\\n (Babies per Woman)', fontsize=14)\n",
    "plt.title('Fertility Rate versus Female Employment\\n across Countries', fontsize=18);"
   ]
  },
  {
   "cell_type": "markdown",
   "metadata": {},
   "source": [
    "Fertility rate and female employment (the percentage participation in the labor force for females aged 15+) appear to be uncorrelated."
   ]
  },
  {
   "cell_type": "markdown",
   "metadata": {},
   "source": [
    "#### Fertility rate vs contraceptive use"
   ]
  },
  {
   "cell_type": "code",
   "execution_count": 55,
   "metadata": {},
   "outputs": [
    {
     "data": {
      "image/png": "[encoded data removed]",
      "text/plain": [
       "<Figure size 432x288 with 1 Axes>"
      ]
     },
     "metadata": {
      "needs_background": "light"
     },
     "output_type": "display_data"
    }
   ],
   "source": [
    "df_2011.plot(x='contraception', y='fertility_rate', kind='scatter')\n",
    "plt.xlabel('Contraceptive Use\\n (fraction using contraception)', fontsize=14)\n",
    "plt.ylabel('Fertility Rate\\n (Babies per Woman)', fontsize=14)\n",
    "plt.title('Fertility Rate versus Contraceptive Use\\n across Countries', fontsize=18);"
   ]
  },
  {
   "cell_type": "markdown",
   "metadata": {},
   "source": [
    "The contraception use variable aims to be a measure of the percentage of women who are practicing, or whose sexual partners are practicing, any form of contraception.  There is a clear negative correlation between fertility rate and contraceptive use.\n",
    "\n",
    "For the previous variables in which there was a negative correlation with fertility rate, one should hesitate to draw any conclusions about causation without further investigation.  In this case, our background knowledge that the use of contraceptives in individual cases directly prevents pregnancy -- that is, our knowledge of some related causal facts -- leads us to expect a negative correlation and, in this case, the negative correlation seems to confirm the presence of underlying causation."
   ]
  },
  {
   "cell_type": "markdown",
   "metadata": {},
   "source": [
    "<a id='conclusions'></a>\n",
    "## Conclusions\n",
    "\n",
    "We have seen that, in answer to Question 1, fertility rates (babies per woman) across countries have been decreasing over time, tending toward rates between 2 and 3 children per woman.  Morever, we have seen that, in answer to Question 2, the mean of fertility rates in regions of the world (averaged over the countries in those regions) is for most regions (the Americas, East Asia & the Pacific, the Middle East & North Africa, and South Asia) between 2 and 3. The mean of fertility rates in Europe and Central Asia is the lowest, being less than 2.  The greatest exception is Sub-Saharan Africa where the mean of fertility rates across those countries is just under 5.\n",
    "\n",
    "When comparing fertility rates with other variables, in answer to Question 3, we observed that fertility rates are negatively correlated with income (GDP per capita), life expectancy, sanitation, female literacy, and contraceptive use.  One might think that fertility rates would also be correlated with the percentage of females that have joined the work force, but that was not observed.  \n",
    "\n",
    "### Limitations\n",
    "\n",
    "We chose 2011 as the year to use in order to compare fertility rates with other variables in answer to question 3.  We did so because some data sets (e.g., female literacy) did not have data beyond that year.  However, 2011 is now nearly a decade ago.  One might try to pursue more current data outside of that provided by Gapminder.\n",
    "\n",
    "In two cases (the variables female literacy and contraceptive use), we used 5-year averages (2007-2011) to fill in data for 2011 since, for those cases, so much data was missing for 2011 strictly on its own.  This seems justified because one wouldn't expect great changes over a 5-year period for these variables, but more work could be done to try to support that expectation.\n",
    "\n",
    "In addition, one should be careful not to infer causation from the correlations we observed.  Correlations may be the result of a common cause which produces both results as joint effects.  This work on correlations could form the basis for further work creating regression models and investigating questions about causation."
   ]
  }
 ],
 "metadata": {
  "kernelspec": {
   "display_name": "Python 3",
   "language": "python",
   "name": "python3"
  },
  "language_info": {
   "codemirror_mode": {
    "name": "ipython",
    "version": 3
   },
   "file_extension": ".py",
   "mimetype": "text/x-python",
   "name": "python",
   "nbconvert_exporter": "python",
   "pygments_lexer": "ipython3",
   "version": "3.7.7"
  }
 },
 "nbformat": 4,
 "nbformat_minor": 2
}
